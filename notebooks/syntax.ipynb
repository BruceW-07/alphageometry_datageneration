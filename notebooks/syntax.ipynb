{
 "cells": [
  {
   "cell_type": "code",
   "metadata": {
    "ExecuteTime": {
     "end_time": "2024-09-08T22:51:58.301030Z",
     "start_time": "2024-09-08T22:51:56.321086Z"
    }
   },
   "source": [
    "from pathlib import Path\n",
    "from util import repo_root\n",
    "from omnibelt.jester import view, select, batchify, AutoFileJester\n",
    "from verb.definitions import Definition, load_patterns\n",
    "from verb.imports import *\n",
    "\n",
    "import pandas as pd"
   ],
   "outputs": [],
   "execution_count": 1
  },
  {
   "cell_type": "code",
   "metadata": {
    "ExecuteTime": {
     "end_time": "2024-09-08T22:51:58.316161Z",
     "start_time": "2024-09-08T22:51:58.305585Z"
    }
   },
   "source": [
    "datadir = repo_root() / 'data' / 'old'\n",
    "paths = list(datadir.glob('*.csv'))\n",
    "len(paths)"
   ],
   "outputs": [
    {
     "data": {
      "text/plain": [
       "10"
      ]
     },
     "execution_count": 2,
     "metadata": {},
     "output_type": "execute_result"
    }
   ],
   "execution_count": 2
  },
  {
   "cell_type": "code",
   "metadata": {
    "ExecuteTime": {
     "end_time": "2024-09-06T23:48:37.699925Z",
     "start_time": "2024-09-06T23:48:37.695087Z"
    }
   },
   "source": [
    "datadir"
   ],
   "outputs": [
    {
     "data": {
      "text/plain": [
       "WindowsPath('C:/Users/anwan/OneDrive/Khan/research/alphageometry/data/old')"
      ]
     },
     "execution_count": 3,
     "metadata": {},
     "output_type": "execute_result"
    }
   ],
   "execution_count": 3
  },
  {
   "cell_type": "code",
   "execution_count": null,
   "metadata": {},
   "outputs": [],
   "source": "# AutoFileJester(datadir, 'csv')"
  },
  {
   "cell_type": "code",
   "execution_count": null,
   "metadata": {},
   "outputs": [],
   "source": []
  },
  {
   "cell_type": "code",
   "metadata": {
    "ExecuteTime": {
     "end_time": "2024-09-06T23:48:39.249443Z",
     "start_time": "2024-09-06T23:48:39.239913Z"
    }
   },
   "source": [
    "rawdefs = Path('../defs.txt').read_text()\n",
    "symbs = {}\n",
    "for block in rawdefs.split('\\n\\n'):\n",
    "\tlines = block.split('\\n')\n",
    "\tif len(lines) == 1:\n",
    "\t\tsymbs[lines[0].split()[0]] = len(lines[0].split()) - 1\n",
    "\telse:\n",
    "\t\tsymbs[lines[0].split()[0]] = len(lines[1].split(','))\n",
    "del symbs['=']\n",
    "len(symbs)"
   ],
   "outputs": [
    {
     "data": {
      "text/plain": [
       "68"
      ]
     },
     "execution_count": 4,
     "metadata": {},
     "output_type": "execute_result"
    }
   ],
   "execution_count": 4
  },
  {
   "cell_type": "code",
   "metadata": {
    "ExecuteTime": {
     "end_time": "2024-09-06T23:48:40.446162Z",
     "start_time": "2024-09-06T23:48:40.439615Z"
    }
   },
   "source": [
    "symbs"
   ],
   "outputs": [
    {
     "data": {
      "text/plain": [
       "{'angle_bisector': 1,\n",
       " 'angle_mirror': 1,\n",
       " 'circle': 1,\n",
       " 'circumcenter': 1,\n",
       " 'eq_quadrangle': 1,\n",
       " 'eq_trapezoid': 1,\n",
       " 'eq_triangle': 1,\n",
       " 'eqangle2': 1,\n",
       " 'eqdia_quadrangle': 1,\n",
       " 'eqdistance': 1,\n",
       " 'foot': 1,\n",
       " 'free': 1,\n",
       " 'incenter': 1,\n",
       " 'incenter2': 4,\n",
       " 'excenter': 1,\n",
       " 'excenter2': 4,\n",
       " 'centroid': 4,\n",
       " 'ninepoints': 4,\n",
       " 'intersection_cc': 1,\n",
       " 'intersection_lc': 1,\n",
       " 'intersection_ll': 1,\n",
       " 'intersection_lp': 1,\n",
       " 'intersection_lt': 1,\n",
       " 'intersection_pp': 1,\n",
       " 'intersection_tt': 1,\n",
       " 'iso_triangle': 1,\n",
       " 'lc_tangent': 1,\n",
       " 'midpoint': 1,\n",
       " 'mirror': 1,\n",
       " 'nsquare': 1,\n",
       " 'on_aline': 1,\n",
       " 'on_aline2': 1,\n",
       " 'on_bline': 1,\n",
       " 'on_circle': 1,\n",
       " 'on_line': 1,\n",
       " 'on_pline': 1,\n",
       " 'on_tline': 1,\n",
       " 'orthocenter': 1,\n",
       " 'parallelogram': 1,\n",
       " 'pentagon': 5,\n",
       " 'psquare': 1,\n",
       " 'quadrangle': 4,\n",
       " 'r_trapezoid': 1,\n",
       " 'r_triangle': 1,\n",
       " 'rectangle': 2,\n",
       " 'reflect': 1,\n",
       " 'risos': 1,\n",
       " 's_angle': 1,\n",
       " 'segment': 2,\n",
       " 'shift': 1,\n",
       " 'square': 2,\n",
       " 'isquare': 2,\n",
       " 'trapezoid': 1,\n",
       " 'triangle': 3,\n",
       " 'triangle12': 1,\n",
       " '2l1c': 4,\n",
       " 'e5128': 2,\n",
       " '3peq': 3,\n",
       " 'trisect': 2,\n",
       " 'trisegment': 2,\n",
       " 'on_dia': 1,\n",
       " 'ieq_triangle': 1,\n",
       " 'on_opline': 1,\n",
       " 'cc_tangent0': 2,\n",
       " 'cc_tangent': 4,\n",
       " 'eqangle3': 1,\n",
       " 'tangent': 1,\n",
       " 'on_circum': 1}"
      ]
     },
     "execution_count": 5,
     "metadata": {},
     "output_type": "execute_result"
    }
   ],
   "execution_count": 5
  },
  {
   "cell_type": "code",
   "metadata": {
    "ExecuteTime": {
     "end_time": "2024-09-07T00:49:44.295493Z",
     "start_time": "2024-09-07T00:49:44.188260Z"
    }
   },
   "source": [
    "formals = [prob for path in paths for prob in pd.read_csv(path)['fl_statement'].tolist()]\n",
    "len(formals)"
   ],
   "outputs": [
    {
     "data": {
      "text/plain": [
       "1708"
      ]
     },
     "execution_count": 82,
     "metadata": {},
     "output_type": "execute_result"
    }
   ],
   "execution_count": 82
  },
  {
   "metadata": {
    "ExecuteTime": {
     "end_time": "2024-09-07T00:50:05.587940Z",
     "start_time": "2024-09-07T00:50:05.579772Z"
    }
   },
   "cell_type": "code",
   "source": [
    "statements = [clause for formal in formals for line in formal.split(';') for clause in line.split(', ')]\n",
    "len(statements)"
   ],
   "outputs": [
    {
     "data": {
      "text/plain": [
       "6643"
      ]
     },
     "execution_count": 86,
     "metadata": {},
     "output_type": "execute_result"
    }
   ],
   "execution_count": 86
  },
  {
   "metadata": {
    "ExecuteTime": {
     "end_time": "2024-09-07T00:49:47.791860Z",
     "start_time": "2024-09-07T00:49:47.787578Z"
    }
   },
   "cell_type": "code",
   "source": [
    "from verb.definitions import ClauseGenerator\n",
    "from verb.verbalize import IndependentStatementVerbalization\n",
    "import json, yaml, random\n",
    "from tabulate import tabulate\n",
    "from tqdm.notebook import tqdm\n",
    "from collections import Counter"
   ],
   "outputs": [],
   "execution_count": 83
  },
  {
   "metadata": {
    "ExecuteTime": {
     "end_time": "2024-09-07T04:20:33.108300Z",
     "start_time": "2024-09-07T04:20:32.518536Z"
    }
   },
   "cell_type": "code",
   "source": [
    "# ctx = Controller(ClauseGenerator())\n",
    "# ctx.clear_cache()\n",
    "# # ctx['formal'] = random.choice(statements)\n",
    "# print(ctx['formal'])\n",
    "# ctx['clause']\n",
    "translator = IndependentStatementVerbalization(None)\n",
    "def render(info):\n",
    "\tdef render_clause(clause):\n",
    "\t\tpre = ' '.join(clause['let']) if clause.get('let') else ''\n",
    "\t\targs = ' '.join(clause['args'])\n",
    "\t\tif pre:\n",
    "\t\t\treturn f'{pre} = {clause[\"symbol\"]} {args}'\n",
    "\t\treturn f'{clause[\"symbol\"]} {args}'\n",
    "\tif isinstance(info, dict):\n",
    "\t\treturn render_clause(info)\n",
    "\tif isinstance(info, list) and isinstance(info[0], dict):\n",
    "\t\treturn ', '.join(render_clause(clause) for clause in info)\n",
    "\treturn '; '.join(', '.join(render_clause(clause) for clause in line) for line in info)\n",
    "\n",
    "def verb(formal):\n",
    "\treturn translator.fl_2_nl(formal)\n",
    "\n",
    "def parse(formal):\n",
    "\tdef parse_clause(clause):\n",
    "\t\tif ' = ' in clause:\n",
    "\t\t\tpre, fn = clause.split(' = ')\n",
    "\t\telse:\n",
    "\t\t\tpre, fn = '', clause\n",
    "\t\tlet = pre.split()\n",
    "\t\tsym, *args = fn.split()\n",
    "\t\treturn {'let': let, 'symbol': sym, 'args': args}\n",
    "\treturn [[parse_clause(clause) for clause in line.split(', ')] for line in formal.split(';')]\n",
    "\n",
    "def disp(formal):\n",
    "\treturn yaml.dump([[{k:v for k,v in clause.items() if v} for clause in clauses] for clauses in parse(formal)], default_flow_style=None)[:-1]\n",
    "# parse(formals[0])"
   ],
   "outputs": [],
   "execution_count": 120
  },
  {
   "metadata": {
    "ExecuteTime": {
     "end_time": "2024-09-07T04:00:29.635897Z",
     "start_time": "2024-09-07T04:00:29.629889Z"
    }
   },
   "cell_type": "code",
   "source": [
    "formal = random.choice(formals)\n",
    "assert formal == render(parse(formal))\n",
    "formal"
   ],
   "outputs": [
    {
     "data": {
      "text/plain": [
       "'A B C = ieq_triangle A B C; D E F G = excenter2 D E F G C A B; H = intersection_tt H D G E B A F; I = lc_tangent I A F'"
      ]
     },
     "execution_count": 112,
     "metadata": {},
     "output_type": "execute_result"
    }
   ],
   "execution_count": 112
  },
  {
   "metadata": {
    "ExecuteTime": {
     "end_time": "2024-09-07T00:50:20.950027Z",
     "start_time": "2024-09-07T00:50:10.416265Z"
    }
   },
   "cell_type": "code",
   "source": [
    "full = []\n",
    "for fl in tqdm(statements):\n",
    "\tfl = fl.strip()\n",
    "\tinfo = parse(fl)[0][0]\n",
    "\tnl = translator.fl_2_nl(fl)\n",
    "\tfull.append({'fl': fl, 'info': info, 'nl': nl})\n",
    "# fl = random.choice(statements).strip()\n",
    "# info = parse(fl)\n",
    "# nl = translator.fl_2_nl(fl)\n",
    "# print(fl)\n",
    "# print(nl)\n",
    "len(full)"
   ],
   "outputs": [
    {
     "data": {
      "text/plain": [
       "  0%|          | 0/6643 [00:00<?, ?it/s]"
      ],
      "application/vnd.jupyter.widget-view+json": {
       "version_major": 2,
       "version_minor": 0,
       "model_id": "862f27deea0d4f12a245472f0b7f04ff"
      }
     },
     "metadata": {},
     "output_type": "display_data"
    },
    {
     "data": {
      "text/plain": [
       "6643"
      ]
     },
     "execution_count": 87,
     "metadata": {},
     "output_type": "execute_result"
    }
   ],
   "execution_count": 87
  },
  {
   "metadata": {
    "ExecuteTime": {
     "end_time": "2024-09-07T00:50:20.963535Z",
     "start_time": "2024-09-07T00:50:20.951029Z"
    }
   },
   "cell_type": "code",
   "source": [
    "cnt = Counter({s: 0 for s in symbs})\n",
    "cnt.update([x['info']['symbol'] for x in full])\n",
    "print(tabulate(cnt.most_common(), headers=['Symbol', 'Count']))"
   ],
   "outputs": [
    {
     "name": "stdout",
     "output_type": "stream",
     "text": [
      "Symbol              Count\n",
      "----------------  -------\n",
      "lc_tangent            212\n",
      "eqdistance            204\n",
      "on_bline              199\n",
      "on_pline              199\n",
      "on_circle             198\n",
      "angle_bisector        196\n",
      "on_opline             195\n",
      "pentagon              194\n",
      "triangle12            191\n",
      "on_dia                189\n",
      "iso_triangle          187\n",
      "on_line               187\n",
      "eq_trapezoid          182\n",
      "r_triangle            182\n",
      "risos                 178\n",
      "trapezoid             169\n",
      "angle_mirror          167\n",
      "on_tline              163\n",
      "eqdia_quadrangle      158\n",
      "quadrangle            157\n",
      "ieq_triangle          157\n",
      "eq_quadrangle         154\n",
      "rectangle             153\n",
      "r_trapezoid           152\n",
      "triangle              152\n",
      "free                  150\n",
      "isquare               149\n",
      "segment               144\n",
      "on_aline              132\n",
      "eqangle3              112\n",
      "psquare                65\n",
      "midpoint               62\n",
      "incenter               58\n",
      "excenter2              56\n",
      "intersection_cc        56\n",
      "reflect                55\n",
      "eqangle2               54\n",
      "parallelogram          53\n",
      "on_circum              52\n",
      "square                 51\n",
      "3peq                   50\n",
      "trisegment             50\n",
      "circle                 48\n",
      "incenter2              48\n",
      "nsquare                48\n",
      "mirror                 47\n",
      "circumcenter           46\n",
      "cc_tangent             45\n",
      "centroid               44\n",
      "ninepoints             44\n",
      "tangent                44\n",
      "intersection_ll        41\n",
      "eq_triangle            40\n",
      "trisect                40\n",
      "shift                  39\n",
      "foot                   38\n",
      "excenter               38\n",
      "intersection_lc        35\n",
      "orthocenter            32\n",
      "s_angle                22\n",
      "intersection_lt        21\n",
      "intersection_pp        21\n",
      "intersection_tt        21\n",
      "intersection_lp        16\n",
      "2l1c                    1\n",
      "on_aline2               0\n",
      "e5128                   0\n",
      "cc_tangent0             0\n"
     ]
    }
   ],
   "execution_count": 88
  },
  {
   "metadata": {
    "ExecuteTime": {
     "end_time": "2024-09-07T04:04:17.630393Z",
     "start_time": "2024-09-07T04:04:17.596501Z"
    }
   },
   "cell_type": "code",
   "source": [
    "todo = set(symbs)\n",
    "trainset = []\n",
    "evalset = []\n",
    "for fl in tqdm(formals):\n",
    "\tinfo = parse(fl)\n",
    "\tclauses = [c for line in info for c in line]\n",
    "\tfor clause in clauses:\n",
    "\t\tif clause['symbol'] in todo:\n",
    "\t\t\ttrainset.append(info)\n",
    "\t\t\tfor clause in clauses:\n",
    "\t\t\t\ttodo.discard(clause['symbol'])\n",
    "\t\t\tbreak\n",
    "\telse:\n",
    "\t\tevalset.append(info)\n",
    "len(trainset), len(evalset)"
   ],
   "outputs": [
    {
     "data": {
      "text/plain": [
       "  0%|          | 0/1708 [00:00<?, ?it/s]"
      ],
      "application/vnd.jupyter.widget-view+json": {
       "version_major": 2,
       "version_minor": 0,
       "model_id": "b13bb20cb35c4855b86fe1a76059f678"
      }
     },
     "metadata": {},
     "output_type": "display_data"
    },
    {
     "data": {
      "text/plain": [
       "(41, 1667)"
      ]
     },
     "execution_count": 114,
     "metadata": {},
     "output_type": "execute_result"
    }
   ],
   "execution_count": 114
  },
  {
   "metadata": {
    "ExecuteTime": {
     "end_time": "2024-09-07T04:22:43.415524Z",
     "start_time": "2024-09-07T04:22:43.408892Z"
    }
   },
   "cell_type": "code",
   "source": [
    "examples = {k: [] for k in symbs}\n",
    "for info in trainset:\n",
    "\tclauses = [c for line in info for c in line]\n",
    "\tfor clause in clauses:\n",
    "\t\texamples.setdefault(clause['symbol'], []).append(clause)\n",
    "sum(len(v) for v in examples.values())"
   ],
   "outputs": [
    {
     "data": {
      "text/plain": [
       "182"
      ]
     },
     "execution_count": 124,
     "metadata": {},
     "output_type": "execute_result"
    }
   ],
   "execution_count": 124
  },
  {
   "metadata": {
    "ExecuteTime": {
     "end_time": "2024-09-07T04:22:43.863542Z",
     "start_time": "2024-09-07T04:22:43.645314Z"
    }
   },
   "cell_type": "code",
   "source": [
    "lines = [f'{symbol} ({len(examples[symbol][0][\"args\"])}):\\n' + '\\n'.join(f'  - {verb(render(ex))}' for ex in examples[symbol][:3]) for symbol in examples if len(examples[symbol]) > 0]\n",
    "print('\\n'.join(lines))"
   ],
   "outputs": [
    {
     "name": "stdout",
     "output_type": "stream",
     "text": [
      "angle_bisector (4):\n",
      "  - F bisects ∠DBF, ∠FBE.\n",
      "  - H is on the angle bisector of ∠ADH & ∠HDG.\n",
      "  - Point I is defined such that I is the bisector such that ∠ICG = ∠BCI.\n",
      "angle_mirror (4):\n",
      "  - Define point E such that line CD is the bisector of ∠ACE.\n",
      "  - D is defined such that line BC is the bisector of ∠ABD.\n",
      "  - Line ID is the bisector of ∠LIO.\n",
      "circle (4):\n",
      "  - E is defined such that E is the center of the circle passing through C, A, & D.\n",
      "circumcenter (4):\n",
      "  - D is a points such that D is the circumcenter of B, C, & A.\n",
      "eq_quadrangle (4):\n",
      "  - Define points A, C, D, and B such that A, D, C, and B forms a quadrilateral where line AD = line BC.\n",
      "  - Let A, D, C, and B be points such that B, A, C, D forms a quadrilateral such that line BC is equal to line AD.\n",
      "  - Let G, J, I, & H be points such that H, G, J, I forms a quadrilateral such that line HI = line GJ.\n",
      "eq_trapezoid (4):\n",
      "  - B, C, D, & A are point such that B, C, A, and D forms a trapezoid with line AD = line BC.\n",
      "  - Define points B, C, D, & A such that B, C, D, A forms a trapezoid such that line AD is the same as line BC.\n",
      "  - Let A, B, D, & C be points such that B, A, C, D forms a trapezoid such that line AD = line BC.\n",
      "eq_triangle (3):\n",
      "  - F is defined such that in triangle FAD, line DF = line AD = line FA.\n",
      "eqangle2 (4):\n",
      "  - Point E is defined such that E is a point where ∠CAE is equal to ∠EBC.\n",
      "eqdia_quadrangle (4):\n",
      "  - Define points A, B, D, and C such that quadrilateral ABCD is a quadrilateral where line AC is equal to line BD.\n",
      "  - B, C, A, D are defined such that for quadrilateral ABCD, line BD equals line AC.\n",
      "eqdistance (4):\n",
      "  - Line FE is equal to line DC.\n",
      "  - Define point F such that line FE & line BA are equivalent.\n",
      "  - I is defined such that line HG, line IC are equal.\n",
      "foot (4):\n",
      "  - K is a points such that the foot of F on line AE is K.\n",
      "  - Let E be a point such that E is the foot of C on line AD.\n",
      "  - E is on line CB and line EA is perpendicular to line CB.\n",
      "free (1):\n",
      "  - Let A be a point such that A is a point.\n",
      "  - Point F is defined such that F is a point.\n",
      "  - Let A be a point such that A is a point.\n",
      "incenter (4):\n",
      "  - E is a points such that triangle CAB has incenter E.\n",
      "  - Point E is defined such that the incenter of triangle BCA is E.\n",
      "incenter2 (7):\n",
      "  - Triangle CAB has incenter G and touchpoints F, E, D.\n",
      "  - I, L, K, and J are defined such that L is at the incenter of B, A, and F with touchpoints I, K, and J.\n",
      "excenter (4):\n",
      "  - Define point J such that the excenter of triangle AIB is J.\n",
      "  - Point L is defined such that the excenter of triangle HEJ is located at L.\n",
      "excenter2 (7):\n",
      "  - G, F, I, and H are defined such that triangle DAB has excenter I and touchpoints G, F, and H.\n",
      "  - E, F, H, and G are point such that H is at the excenter of D, C, A with touchpoints F, G, & E.\n",
      "centroid (7):\n",
      "  - Points G, F, I, H are defined such that I is located at the point of concurrence of the medians of triangle ABE.\n",
      "  - Define points G, H, F, & I such that triangle EBD has centroid I.\n",
      "ninepoints (7):\n",
      "  - Points L, M, O, N are defined such that the nine-point center of triangle DHF is at O. the circle intersects the sides line HF, at L, line FD, at M, and line DH, at N.\n",
      "intersection_cc (4):\n",
      "  - Define point K such that circle centered at J with radius JD intersects circle centered at E with radius ED at the points K, D.\n",
      "  - Circle centered at F with radius FE intersects circle centered at H with radius HE at the points J and E.\n",
      "intersection_lc (4):\n",
      "  - Point D is defined such that line AC meets circle centered at B with radius BC at D and C.\n",
      "  - Line AB meets circle centered at C with radius CB at D & B.\n",
      "intersection_ll (5):\n",
      "  - Define point E such that line CA intersects line BD at the point E.\n",
      "  - Define point K such that line HC meets line BF at K.\n",
      "intersection_lp (6):\n",
      "  - I is defined such that Parallel line BH through F intersects line AG at I.\n",
      "intersection_lt (6):\n",
      "  - Line BC not at right angle to line AE. line DF at right angle to line AE meets line BC at the point F.\n",
      "intersection_pp (7):\n",
      "  - Let K be a point such that line KB || line HD. line FK || line AG. line KB meets line FK at K.\n",
      "intersection_tt (7):\n",
      "  - Let N be a point such that line FI || line HG. line CN perpendicular to line FI. line LN and line CN are perpendicular to line HG and line FI respectively. They intersect at N.\n",
      "iso_triangle (3):\n",
      "  - Define points C, A, B such that triangle ABC is an isosceles triangle with ∠BCA equivalent to ∠ABC.\n",
      "  - Define points H, F, & G such that triangle FGH is an isosceles triangle with ∠GHF equal to ∠FGH.\n",
      "  - D, C, & B are defined such that triangle BCD is an isosceles triangle with line CD as base.\n",
      "lc_tangent (3):\n",
      "  - D is defined such that line DB is touching to circle centered at C with radius CB at the point D.\n",
      "  - Define point G such that line GF is tangent to circle centered at A with radius AF at the point G.\n",
      "  - Define point D such that line DC is touching to circle centered at A with radius AC at the point D.\n",
      "midpoint (3):\n",
      "  - Point E is defined such that E is a point such that length of E, C equal length of A, E.\n",
      "  - J is defined such that J is the the midpoint of line HI.\n",
      "  - E is a points such that E is the the midpoint of line DB.\n",
      "mirror (3):\n",
      "  - Define point G such that G is on line FC such that G, C is equal to F & C.\n",
      "  - I is defined such that I is on line EF such that I & F is equal to E, F.\n",
      "nsquare (3):\n",
      "  - Define point G such that G, B, D are three consecutive vertices of a square.\n",
      "on_aline (6):\n",
      "  - I is such that ∠IHA is equal to ∠BCG.\n",
      "  - Let H be a point such that H is such that ∠HGA is congruent to ∠DCF.\n",
      "on_bline (3):\n",
      "  - F is a points such that F is on perpendicular bisector of line AB.\n",
      "  - I is on perpendicular bisector of line EF.\n",
      "  - Let E be a point such that E is on perpendicular bisector of line CD.\n",
      "on_circle (3):\n",
      "  - Let E be a point such that E is on the circumference of circle centered at B with radius BD.\n",
      "  - E is defined such that E is on the circle circle centered at A with radius AD.\n",
      "  - Let D be a point such that D is on the circle circle centered at A with radius AC.\n",
      "on_line (3):\n",
      "  - E is a points such that E is on line DC.\n",
      "  - Let H be a point such that H is on line CD.\n",
      "  - Let F be a point such that F is on line AE.\n",
      "on_pline (4):\n",
      "  - E is a points such that E is on a line through B and parallel to line AC.\n",
      "  - F is a points such that F is on a line through D and parallel to line CA.\n",
      "  - Point F is defined such that F is on a line through B and parallel to line AE.\n",
      "on_tline (4):\n",
      "  - Let P be a point such that P is on a line through J and perpendicular to line KF.\n",
      "  - Point M is defined such that M is on a line through H and at right angle to line KF.\n",
      "  - Point F is defined such that F is on a line through D and perpendicular to line AC.\n",
      "orthocenter (4):\n",
      "  - Define point H such that H is at the meeting point of the altitudes of triangle CEB.\n",
      "parallelogram (4):\n",
      "  - ACDE is a parallelogram.\n",
      "pentagon (5):\n",
      "  - Points E, F, I, G, H are defined such that EFGHI is a pentagon.\n",
      "  - ABCDE is a pentagon.\n",
      "psquare (3):\n",
      "  - J is defined such that J, G, A are three consecutive vertices of a square.\n",
      "  - E, C, B are three consecutive vertices of a square.\n",
      "quadrangle (4):\n",
      "  - A, D, B, C are point such that ABCD is a quadrangle.\n",
      "  - H, K, J, I are defined such that HIJK is a quadrilateral.\n",
      "  - Define points A, B, C, D such that ABCD is a quadrangle.\n",
      "r_trapezoid (4):\n",
      "  - A, B, D, and C are point such that ABCD is a right angle trapezoid, with AB at right angle to AD.\n",
      "  - Points B, C, D, and A are defined such that ABCD is a right angle trapezoid, with AB at right angle to AD.\n",
      "  - Define points A, D, C, & B such that ABCD is a right angle trapezoid, with AB perpendicular to AD.\n",
      "r_triangle (3):\n",
      "  - Define points B, A, and C such that ABC is a right triangle, with AB at right angle to AC.\n",
      "  - Let C, B, A be points such that ABC is a right triangle, with AB at right angle to AC.\n",
      "  - C, A, & B are defined such that ABC is a right triangle, with the right angle ar A.\n",
      "rectangle (4):\n",
      "  - Let A, D, C, B be points such that ABCD is a rectangle.\n",
      "  - Let H, G, I, and J be points such that GHIJ is a rectangle.\n",
      "reflect (4):\n",
      "  - J is defined such that J is the reflection of G over line EB.\n",
      "  - G is the reflection of D over line FA.\n",
      "  - E is a points such that E is the reflection of D on line BA.\n",
      "risos (3):\n",
      "  - Points C, B, and A are defined such that A, B, and C is a right angle isosceles triangle with the right angle at A.\n",
      "  - Let B, D, and C be points such that D, C, and B is a right angle isosceles triangle with the right angle at B.\n",
      "s_angle (4):\n",
      "  - M is such that âˆ EGM is equal to 90 degrees.\n",
      "segment (2):\n",
      "  - Define points E and F such that F and E is a segment of line EF.\n",
      "  - I and H is a segment of line HI.\n",
      "  - G, H are point such that G, H is a segment of line GH.\n",
      "shift (4):\n",
      "  - D is a points such that line DB is the result of shifting line AC.\n",
      "square (4):\n",
      "  - N, M are defined such that given line AG, construct M and N such that AGMN is a square.\n",
      "  - Define points O and P such that GBOP is a square.\n",
      "  - Define points G, H such that given line CB, construct G and H such that CBGH is a square.\n",
      "isquare (4):\n",
      "  - Let A, C, D, & B be points such that ABCD is a square.\n",
      "  - B, A, D, & C are point such that ABCD is a square.\n",
      "  - A, B, D, C are point such that ABCD is a square.\n",
      "trapezoid (4):\n",
      "  - A, D, C, & B are defined such that ABCD is a trapezoid.\n",
      "  - Let F, H, G, and I be points such that FGHI is a trapezoid.\n",
      "triangle (3):\n",
      "  - Define points A, B, & C such that ABC is a triangle ABC.\n",
      "  - Points G, E, and F are defined such that EFG is a triangle EFG.\n",
      "  - E, G, F are point such that EFG is a triangle EFG.\n",
      "triangle12 (3):\n",
      "  - B, C, A are defined such that ABC is a triangle ABC, such that A and B is half in length to that of C & B.\n",
      "  - Define points L, K, J such that JKL is a triangle JKL, such that J & K is half in length to that of K and L.\n",
      "2l1c (8):\n",
      "  - Line CA and line DA are tangents to a circle centered at B at point E and F respectively. The circle centered at B touches circle centered at B with radius BC at H.\n",
      "3peq (6):\n",
      "  - Points L, K, & J are defined such that line DI line IC and line CD are sides of triangle DIC. line JK intersects line DI at K, line IC at L and line CD at J such that JK is equivalent to KL.\n",
      "trisect (5):\n",
      "  - Define points F, E such that E and F two points on line BA of triangle BCA such that ∠BCE is 1/3 of ∠BCA and ∠ECF is 1/3 of ∠BCA.\n",
      "trisegment (4):\n",
      "  - Define points E and F such that line BC is trisected by B and C..\n",
      "on_dia (3):\n",
      "  - G is a points such that G is on the circumference of the circle that has line DA as diameter.\n",
      "  - K is defined such that K is on the circle which has line IH as diameter.\n",
      "  - Let L be a point such that L is on the circle which has line JC as diameter.\n",
      "ieq_triangle (3):\n",
      "  - Triangle EFG is an equilateral triangle.\n",
      "  - Points C, B, and A are defined such that triangle ABC is an equilateral triangle.\n",
      "  - Points A, B, and C are defined such that triangle ABC is an equilateral triangle.\n",
      "on_opline (3):\n",
      "  - E is defined such that E is on the extended line line BA.\n",
      "  - Define point F such that F is on the extended line line BE.\n",
      "  - F is on the extended line line AE.\n",
      "cc_tangent (8):\n",
      "  - Line FG and line HI are common tangents to circle centered at B with radius BA and circle centered at E with radius ED at points F, G and H, I respectively..\n",
      "eqangle3 (6):\n",
      "  - ∠GFA is equivalent to ∠BDC.\n",
      "  - Let G be a point such that ∠GCA is congruent to ∠BDE.\n",
      "  - Let O be a point such that ∠OMB is equal to ∠CGH.\n",
      "tangent (5):\n",
      "  - Define points E, F such that line EA and line FA are the two tangents to circle centered at D with radius DB at point E and F respectively..\n",
      "  - Define points K and L such that line KE and line LE are the two tangents to circle centered at H with radius HF at point K and L respectively..\n",
      "on_circum (4):\n",
      "  - Define point E such that E is on the circumcircle of triangle DCB.\n"
     ]
    }
   ],
   "execution_count": 125
  },
  {
   "metadata": {
    "ExecuteTime": {
     "end_time": "2024-09-07T07:41:58.993234Z",
     "start_time": "2024-09-07T07:41:58.861850Z"
    }
   },
   "cell_type": "code",
   "source": [
    "# raw = Path('autoformalize.txt').read_text()\n",
    "# print(txt)\n",
    "# desc = yaml.safe_load(raw)\n",
    "# print(yaml.dump({f'{s} ({len(examples[s][0][\"args\"])})': d for s, d in desc.items() if len(examples[s]) > 0}, default_flow_style=False))\n",
    "# print(yaml.dump({f'{s} ({len(examples[s][0][\"args\"])})': verb(render(es[0])) for s, es in examples.items() if len(examples[s]) > 0}, default_flow_style=False))\n",
    "# print(yaml.dump({f'{s} ({len(examples[s][0][\"args\"])})': verb(render(es[0])) + '\\n' + disp(render(es[0])) for s, es in examples.items() if len(examples[s]) > 0}, default_flow_style=False))\n",
    "print('\\n'.join(f'{s} ({len(examples[s][0][\"args\"])}): {verb(render(es[0]))}\\n{disp(render(es[0]))}' for s, es in examples.items() if len(examples[s]) > 0))"
   ],
   "outputs": [
    {
     "name": "stdout",
     "output_type": "stream",
     "text": [
      "angle_bisector (4): F is a angle bisector such that ∠DBF = ∠FBE.\n",
      "- - args: [F, D, B, E]\n",
      "    symbol: angle_bisector\n",
      "angle_mirror (4): Point E is defined such that line CD is the bisector of ∠ACE.\n",
      "- - args: [E, A, C, D]\n",
      "    let: [E]\n",
      "    symbol: angle_mirror\n",
      "circle (4): E is defined such that E is the center of circle EDCA.\n",
      "- - args: [E, D, C, A]\n",
      "    let: [E]\n",
      "    symbol: circle\n",
      "circumcenter (4): Let D be a point such that D is the circumcenter of C, A, B.\n",
      "- - args: [D, B, C, A]\n",
      "    let: [D]\n",
      "    symbol: circumcenter\n",
      "eq_quadrangle (4): B, C, A, and D forms a quadrilateral such that line AD = line BC.\n",
      "- - args: [A, B, C, D]\n",
      "    let: [A, B, C, D]\n",
      "    symbol: eq_quadrangle\n",
      "eq_trapezoid (4): A, D, C, & B forms a trapezoid with line BC = line AD.\n",
      "- - args: [A, B, C, D]\n",
      "    let: [A, B, C, D]\n",
      "    symbol: eq_trapezoid\n",
      "eq_triangle (3): Triangle FAD is an equilateral.\n",
      "- - args: [F, A, D]\n",
      "    let: [F]\n",
      "    symbol: eq_triangle\n",
      "eqangle2 (4): E is defined such that E is a point where ∠CAE is congruent to ∠EBC.\n",
      "- - args: [E, A, C, B]\n",
      "    let: [E]\n",
      "    symbol: eqangle2\n",
      "eqdia_quadrangle (4): Let A, D, B, C be points such that quadrilateral ABCD has equal diagonals.\n",
      "- - args: [A, B, C, D]\n",
      "    let: [A, B, C, D]\n",
      "    symbol: eqdia_quadrangle\n",
      "eqdistance (4): F is defined such that line DC is the same as line FE.\n",
      "- - args: [F, E, D, C]\n",
      "    let: [F]\n",
      "    symbol: eqdistance\n",
      "foot (4): K is on line AE and line KF is perpendicular to line AE.\n",
      "- - args: [K, F, A, E]\n",
      "    let: [K]\n",
      "    symbol: foot\n",
      "free (1): Let A be a point such that A is a point.\n",
      "- - args: [A]\n",
      "    let: [A]\n",
      "    symbol: free\n",
      "incenter (4): Let E be a point such that E is at the incenter of triangle CAB.\n",
      "- - args: [E, C, A, B]\n",
      "    let: [E]\n",
      "    symbol: incenter\n",
      "incenter2 (7): Points E, D, F, and G are defined such that G is the incenter of triangle CAB with touchpoints E, F, and D.\n",
      "- - args: [D, E, F, G, C, A, B]\n",
      "    let: [D, E, F, G]\n",
      "    symbol: incenter2\n",
      "excenter (4): Let J be a point such that J is located at the excenter of triangle AIB.\n",
      "- - args: [J, A, I, B]\n",
      "    let: [J]\n",
      "    symbol: excenter\n",
      "excenter2 (7): Points F, I, H, and G are defined such that I is located at the excenter of A, B, and D with touchpoints H, F, & G.\n",
      "- - args: [F, G, H, I, D, A, B]\n",
      "    let: [F, G, H, I]\n",
      "    symbol: excenter2\n",
      "centroid (7): G, F, H, I are defined such that the centroid of triangle ABE is located at I.\n",
      "- - args: [F, G, H, I, A, B, E]\n",
      "    let: [F, G, H, I]\n",
      "    symbol: centroid\n",
      "ninepoints (7): Define points M, N, L, and O such that the nine-point center of triangle DHF is O. the circle intersects the sides line HF, line FD, and line DH at L, M, and N respectively.\n",
      "- - args: [L, M, N, O, D, H, F]\n",
      "    let: [L, M, N, O]\n",
      "    symbol: ninepoints\n",
      "intersection_cc (4): Define point K such that circle centered at J with radius JD intersects circle centered at E with radius ED at K & D.\n",
      "- - args: [K, J, E, D]\n",
      "    let: [K]\n",
      "    symbol: intersection_cc\n",
      "intersection_lc (4): Point D is defined such that line AC meets circle centered at B with radius BC at D, C.\n",
      "- - args: [D, A, B, C]\n",
      "    let: [D]\n",
      "    symbol: intersection_lc\n",
      "intersection_ll (5): E is defined such that line CA meets line BD at the point E.\n",
      "- - args: [E, C, A, B, D]\n",
      "    let: [E]\n",
      "    symbol: intersection_ll\n",
      "intersection_lp (6): I is a points such that Parallel line BH through F intersects line AG at I.\n",
      "- - args: [I, A, G, F, B, H]\n",
      "    let: [I]\n",
      "    symbol: intersection_lp\n",
      "intersection_lt (6): Let F be a point such that line BC not at right angle to line AE. line DF at right angle to line AE intersects line BC at F.\n",
      "- - args: [F, B, C, D, A, E]\n",
      "    let: [F]\n",
      "    symbol: intersection_lt\n",
      "intersection_pp (7): K is defined such that line KB || line HD. line FK || line AG. line KB meets line FK at the point K.\n",
      "- - args: [K, B, H, D, F, A, G]\n",
      "    let: [K]\n",
      "    symbol: intersection_pp\n",
      "intersection_tt (7): Line FI and line HG are parallel. line CN perpendicular to line FI. line LN and line CN are perpendicular to line HG and line FI respectively. They intersect at N.\n",
      "- - args: [N, C, F, I, L, H, G]\n",
      "    let: [N]\n",
      "    symbol: intersection_tt\n",
      "iso_triangle (3): Let B, A, C be points such that triangle ABC is an isosceles triangle with line BC as base.\n",
      "- - args: [A, B, C]\n",
      "    let: [A, B, C]\n",
      "    symbol: iso_triangle\n",
      "lc_tangent (3): Define point D such that line DB is tangent to circle centered at C with radius CB at D.\n",
      "- - args: [D, B, C]\n",
      "    let: [D]\n",
      "    symbol: lc_tangent\n",
      "midpoint (3): Let E be a point such that E is a point where the distance between E & C congruent the distance between A & E.\n",
      "- - args: [E, A, C]\n",
      "    let: [E]\n",
      "    symbol: midpoint\n",
      "mirror (3): G is a points such that G is on line FC such that G, C is congruent to F and C.\n",
      "- - args: [G, F, C]\n",
      "    let: [G]\n",
      "    symbol: mirror\n",
      "nsquare (3): Let G be a point such that G, B, D are three consecutive vertices of a square.\n",
      "- - args: [G, B, D]\n",
      "    let: [G]\n",
      "    symbol: nsquare\n",
      "on_aline (6): I is such that ∠IHA is congruent to ∠BCG.\n",
      "- - args: [I, H, A, B, C, G]\n",
      "    let: [I]\n",
      "    symbol: on_aline\n",
      "on_bline (3): F is defined such that F is on perpendicular bisector of line AB.\n",
      "- - args: [F, A, B]\n",
      "    let: [F]\n",
      "    symbol: on_bline\n",
      "on_circle (3): E is defined such that E is on the circumference of circle centered at B with radius BD.\n",
      "- - args: [E, D, B]\n",
      "    let: [E]\n",
      "    symbol: on_circle\n",
      "on_line (3): Define point E such that E is on line DC.\n",
      "- - args: [E, D, C]\n",
      "    let: [E]\n",
      "    symbol: on_line\n",
      "on_pline (4): E is a points such that E is on a line through B and parallel to line AC.\n",
      "- - args: [E, A, C, B]\n",
      "    let: [E]\n",
      "    symbol: on_pline\n",
      "on_tline (4): Define point P such that P is on a line through J and perpendicular to line KF.\n",
      "- - args: [P, K, F, J]\n",
      "    let: [P]\n",
      "    symbol: on_tline\n",
      "orthocenter (4): The orthocenter of triangle CEB is H.\n",
      "- - args: [H, C, E, B]\n",
      "    let: [H]\n",
      "    symbol: orthocenter\n",
      "parallelogram (4): Define point E such that ACDE is a parallelogram.\n",
      "- - args: [A, C, D, E]\n",
      "    let: [E]\n",
      "    symbol: parallelogram\n",
      "pentagon (5): E, G, I, H, & F are defined such that EFGHI is a pentagon.\n",
      "- - args: [E, F, G, H, I]\n",
      "    let: [E, F, G, H, I]\n",
      "    symbol: pentagon\n",
      "psquare (3): J, G, A are three consecutive vertices of a square.\n",
      "- - args: [J, G, A]\n",
      "    let: [J]\n",
      "    symbol: psquare\n",
      "quadrangle (4): ABCD is a quadrangle.\n",
      "- - args: [A, B, C, D]\n",
      "    let: [A, B, C, D]\n",
      "    symbol: quadrangle\n",
      "r_trapezoid (4): Points B, A, D, and C are defined such that ABCD is a right angle trapezoid, with AB âŠ¥ to AD.\n",
      "- - args: [A, B, C, D]\n",
      "    let: [A, B, C, D]\n",
      "    symbol: r_trapezoid\n",
      "r_triangle (3): Points C, A, & B are defined such that ABC is a right triangle, with AB perpendicular to AC.\n",
      "- - args: [A, B, C]\n",
      "    let: [A, B, C]\n",
      "    symbol: r_triangle\n",
      "rectangle (4): Let A, D, B, C be points such that ABCD is a rectangle.\n",
      "- - args: [A, B, C, D]\n",
      "    let: [A, B, C, D]\n",
      "    symbol: rectangle\n",
      "reflect (4): Define point J such that J is the reflection of G over line EB.\n",
      "- - args: [J, G, E, B]\n",
      "    let: [J]\n",
      "    symbol: reflect\n",
      "risos (3): A, C, & B are point such that A, C, and B is a right angle isosceles triangle with the right angle at A.\n",
      "- - args: [A, B, C]\n",
      "    let: [A, B, C]\n",
      "    symbol: risos\n",
      "s_angle (4): M is such that âˆ EGM is equivalent to 90 degrees.\n",
      "- - args: [E, G, M, '90']\n",
      "    symbol: s_angle\n",
      "segment (2): F and E are point such that E & F is a segment of line EF.\n",
      "- - args: [E, F]\n",
      "    let: [E, F]\n",
      "    symbol: segment\n",
      "shift (4): Define point D such that line DB is the result of shifting line AC.\n",
      "- - args: [D, B, A, C]\n",
      "    let: [D]\n",
      "    symbol: shift\n",
      "square (4): M, N are point such that M & N are constructed such that AGMN forms a square.\n",
      "- - args: [A, G, M, N]\n",
      "    let: [M, N]\n",
      "    symbol: square\n",
      "isquare (4): Define points B, A, D, & C such that given line AB, construct D & C such that ABCD is a square.\n",
      "- - args: [A, B, C, D]\n",
      "    let: [A, B, C, D]\n",
      "    symbol: isquare\n",
      "trapezoid (4): B, C, A, and D are point such that ABCD is a trapezoid.\n",
      "- - args: [A, B, C, D]\n",
      "    let: [A, B, C, D]\n",
      "    symbol: trapezoid\n",
      "triangle (3): C, A, and B are point such that ABC is a triangle ABC.\n",
      "- - args: [A, B, C]\n",
      "    let: [A, B, C]\n",
      "    symbol: triangle\n",
      "triangle12 (3): Let A, C, B be points such that ABC is a triangle ABC, such that B and C is twice in length to that of A, B.\n",
      "- - args: [A, B, C]\n",
      "    let: [A, B, C]\n",
      "    symbol: triangle12\n",
      "2l1c (8): E, H, F, & G are point such that line CA and line DA are tangents to a circle centered at B at point E and F respectively. The circle centered at B touches circle centered at B with radius BC at H.\n",
      "- - args: [E, F, G, H, C, D, A, B]\n",
      "    let: [E, F, G, H]\n",
      "    symbol: 2l1c\n",
      "3peq (6): Line DI line IC and line CD are sides of triangle DIC. line JK intersects line DI at K, line IC at L and line CD at J such that JK is congruent to KL.\n",
      "- - args: [J, K, L, D, I, C]\n",
      "    let: [J, K, L]\n",
      "    symbol: 3peq\n",
      "trisect (5): Let E and F be points such that E and F two points on line BA of triangle BCA such that ∠BCE is 1/3 of ∠BCA and ∠ECF is 1/3 of ∠BCA.\n",
      "- - args: [E, F, B, C, A]\n",
      "    let: [E, F]\n",
      "    symbol: trisect\n",
      "trisegment (4): Points E & F are defined such that E and F are such points on line BC that EB is equal to EF is equal to FC.\n",
      "- - args: [E, F, B, C]\n",
      "    let: [E, F]\n",
      "    symbol: trisegment\n",
      "on_dia (3): G is a points such that G is on the circumference of the circle that has line DA as diameter.\n",
      "- - args: [G, D, A]\n",
      "    let: [G]\n",
      "    symbol: on_dia\n",
      "ieq_triangle (3): Points E, F, and G are defined such that triangle EFG is an equilateral triangle.\n",
      "- - args: [E, F, G]\n",
      "    let: [E, F, G]\n",
      "    symbol: ieq_triangle\n",
      "on_opline (3): Point E is defined such that E is on the extended line line BA.\n",
      "- - args: [E, B, A]\n",
      "    let: [E]\n",
      "    symbol: on_opline\n",
      "cc_tangent (8): F, H, I, and G are point such that line FG and line HI are common tangents to circle centered at B with radius BA and circle centered at E with radius ED at points F, G and H, I respectively..\n",
      "- - args: [F, G, H, I, B, A, E, D]\n",
      "    let: [F, G, H, I]\n",
      "    symbol: cc_tangent\n",
      "eqangle3 (6): ∠GFA is congruent to ∠BDC.\n",
      "- - args: [G, F, A, B, D, C]\n",
      "    symbol: eqangle3\n",
      "tangent (5): Define points F & E such that line EA and line FA are the two tangents to circle centered at D with radius DB at point E and F respectively..\n",
      "- - args: [E, F, A, D, B]\n",
      "    let: [E, F]\n",
      "    symbol: tangent\n",
      "on_circum (4): E is a points such that E is on the circumferance of the circle passing through D, C, B.\n",
      "- - args: [E, D, C, B]\n",
      "    let: [E]\n",
      "    symbol: on_circum\n"
     ]
    }
   ],
   "execution_count": 164
  },
  {
   "cell_type": "code",
   "metadata": {
    "ExecuteTime": {
     "end_time": "2024-09-06T23:53:03.541965Z",
     "start_time": "2024-09-06T23:53:03.538515Z"
    }
   },
   "source": "",
   "outputs": [],
   "execution_count": 13
  },
  {
   "cell_type": "code",
   "metadata": {
    "ExecuteTime": {
     "end_time": "2024-09-07T00:02:33.573790Z",
     "start_time": "2024-09-07T00:02:33.564192Z"
    }
   },
   "source": "",
   "outputs": [
    {
     "data": {
      "text/plain": [
       "[[{'let': ['A', 'B', 'C', 'D'],\n",
       "   'symbol': 'eq_trapezoid',\n",
       "   'args': ['A', 'B', 'C', 'D']}],\n",
       " [{'let': ['E'], 'symbol': 'on_circle', 'args': ['E', 'D', 'B']}]]"
      ]
     },
     "execution_count": 30,
     "metadata": {},
     "output_type": "execute_result"
    }
   ],
   "execution_count": 30
  },
  {
   "metadata": {
    "ExecuteTime": {
     "end_time": "2024-09-07T07:29:20.021267Z",
     "start_time": "2024-09-07T07:29:19.990666Z"
    }
   },
   "cell_type": "code",
   "source": "print(yaml.dump(parse(formals[0]), default_flow_style=None))",
   "outputs": [
    {
     "name": "stdout",
     "output_type": "stream",
     "text": [
      "- - args: [A, B, C, D]\n",
      "    let: [A, B, C, D]\n",
      "    symbol: eq_trapezoid\n",
      "- - args: [E, D, B]\n",
      "    let: [E]\n",
      "    symbol: on_circle\n",
      "\n"
     ]
    }
   ],
   "execution_count": 138
  },
  {
   "cell_type": "code",
   "metadata": {
    "ExecuteTime": {
     "end_time": "2024-09-06T23:56:35.895088Z",
     "start_time": "2024-09-06T23:56:35.890875Z"
    }
   },
   "source": [
    "print(formals)"
   ],
   "outputs": [
    {
     "name": "stdout",
     "output_type": "stream",
     "text": [
      "['A B C D = eq_trapezoid A B C D; E = on_circle E D B', 'A B C D = r_trapezoid A B C D', 'A B C D = eq_quadrangle A B C D; E = on_circle E D A; F = eqdistance F E D C', 'A B C D = r_trapezoid A B C D; E = angle_mirror E A C D; F G H I = excenter2 F G H I D A B; J = excenter J A I B; K = intersection_pp K B H D F A G', 'A B C D = trapezoid A B C D; E F G H I = pentagon E F G H I; J = reflect J G E B; K = foot K F A E; L M N O = ninepoints L M N O D H F; P = on_tline P K F J', 'A B C D = isquare A B C D; E = midpoint E A C', 'A B C = risos A B C; D = angle_mirror D A B C', 'A B C = triangle12 A B C; D = lc_tangent D B C; E F G = ieq_triangle E F G', 'A B C D = r_trapezoid A B C D; E = on_line E D C', 'A B C D = eq_trapezoid A B C D; E = on_pline E A C B', 'A B C = triangle A B C; D = circumcenter D B C A; E = foot E C A D; F = on_bline F A B; G = lc_tangent G F A', 'A B C D = quadrangle A B C D; E = foot E A C B; F = eqdistance F E B A; G = on_dia G D A, eqangle3 G F A B D C', 'A B C D = isquare A B C D; E F G = triangle E F G; H = on_line H C D; I = on_aline I H A B C G', 'A B C D = eqdia_quadrangle A B C D; E F G = triangle E F G; H = orthocenter H C E B', 'A B C D = isquare A B C D; E F = trisegment E F B C; G H I = triangle G H I; J = midpoint J H I', 'A B C = iso_triangle A B C; D = lc_tangent D C A; E = foot E B D A; F = intersection_lt F B C D A E; G = reflect G D F A', 'A B C = r_triangle A B C; D E F G = incenter2 D E F G C A B; H I J K = quadrangle H I J K; L = lc_tangent L D I', 'A B C D = quadrangle A B C D; E = on_opline E B A; F = on_opline F B E', 'A B C D = rectangle A B C D; E = intersection_ll E C A B D; F = on_opline F A E; G = lc_tangent G A C', 'A B C = r_triangle A B C; D = shift D B A C; E F G H = r_trapezoid E F G H; I = eqdistance I C H G, on_bline I E F', 'A B C = triangle12 A B C; D = on_pline D C A B', 'A B C = risos A B C; D = on_pline D A B C', 'A B C D = eqdia_quadrangle A B C D', 'A B C = iso_triangle A B C; D = shift D C A B; E = reflect E B C D; F G H I = quadrangle F G H I', 'A B C D = isquare A B C D; E F G H I = pentagon E F G H I; J K L = ieq_triangle J K L', 'A B C D = quadrangle A B C D; E = on_bline E C D; F = on_pline F C A D, angle_bisector F D B E', 'A B C D = r_trapezoid A B C D; E F = segment E F; G = eqangle3 G C A B D E; H = angle_bisector H A D G', 'A B C D = r_trapezoid A B C D; E = circumcenter E D C B; F G H I = eq_trapezoid F G H I; J = on_bline J C G, lc_tangent J H F; K = eqdistance K C J A', 'A B C D = eq_trapezoid A B C D; E F G H = quadrangle E F G H; I J K L = incenter2 I J K L A B F; M N = square A G M N; O P = square G B O P', 'A B C = triangle12 A B C; D = eqdistance D C A B', 'A B = segment A B; C D E F G = pentagon C D E F G; H I J K = trapezoid H I J K', 'A B C D = trapezoid A B C D; E = lc_tangent E D C; F G H I = isquare F G H I; J = on_circle J A G; K = on_bline K H B, on_pline K E I H', 'A B C D E = pentagon A B C D E; F = on_line F A E; G = mirror G F C; H I = segment H I', 'A B C D = isquare A B C D; E = on_tline E A B C; F G H I = excenter2 F G H I D B E', 'A B C D = eq_trapezoid A B C D; E = lc_tangent E C A, eqdistance E B A C; F G H I = centroid F G H I A B E', 'A B C = r_triangle A B C; D = on_opline D C A; E F = square A B E F', 'A B C D = eq_quadrangle A B C D; E = on_opline E C D; F G H = iso_triangle F G H; I = eqdistance I D F G; J K L = triangle12 J K L; M = on_tline M K F H; N = intersection_tt N C F I L H G; O = eqangle3 O M B C G H, angle_mirror O L I D', 'A B C = triangle A B C; D = on_pline D B A C', 'A B C = triangle A B C; D = on_bline D C A; E F = tangent E F A D B; G = angle_mirror G B F D', 'A B C = triangle A B C; D = on_tline D C B A', 'A B C D = trapezoid A B C D; E = on_opline E B A', 'A B C D = rectangle A B C D; E = reflect E C B D; F G H I = ninepoints F G H I A D C', 'A B C = r_triangle A B C; D = on_circle D B C; E = on_opline E D C; F G H I = incenter2 F G H I C A D', 'A B C = iso_triangle A B C; D = on_line D C A; E = on_dia E D B', 'A B C D = r_trapezoid A B C D; E = on_line E A B; F = intersection_ll F A C D B; G H I = triangle G H I', 'A B C D = eq_trapezoid A B C D', 'A B C D = trapezoid A B C D; E = eqdistance E D C A, on_circle E B C', 'A B C D = eqdia_quadrangle A B C D; E = angle_mirror E C A D; F G H I = cc_tangent F G H I B A E D; J K L M = r_trapezoid J K L M', 'A B C D = eq_quadrangle A B C D; E = on_dia E C B', 'A B = segment A B; C = midpoint C B A', 'A = free A; B C D = iso_triangle B C D; E = reflect E D B A; F = on_tline F A C D; G H I = triangle G H I; J = psquare J G A', 'A B C D = eq_trapezoid A B C D; E = incenter E C A B; F G H I = centroid F G H I E B D; J = on_tline J C D I; K = intersection_cc K J E D; L = foot L C G K; M = on_bline M L E', 'A B C D = eqdia_quadrangle A B C D; E F = segment E F; G = on_pline G B D C', 'A B C = iso_triangle A B C; D = midpoint D B A; E = incenter E B C A', 'A B C D = r_trapezoid A B C D; E = parallelogram A C D E; F = free F; G = nsquare G B D; H = on_aline H G A D C F', 'A B C D = eq_quadrangle A B C D; E = intersection_cc E D A B; F = on_opline F C B', 'A B C D = eq_trapezoid A B C D; E = on_line E D A; F G = tangent F G B D C', 'A B C = ieq_triangle A B C; D = on_circle D C A; E F G H = excenter2 E F G H C A D; I = angle_bisector I B C G; J K L = 3peq J K L D I C', 'A B = segment A B; C D E F G = pentagon C D E F G; H = foot H F D B; I = lc_tangent I G F, on_dia I A E; J = nsquare J E F; K = eqangle3 K F H I J G; L = on_bline L F E', 'A B C = r_triangle A B C; D = intersection_lc D A B C; E = incenter E B C A; F = angle_bisector F B C E; G H I J = eq_quadrangle G H I J; K = intersection_ll K H C B F; L = excenter L H E J; M = on_tline M H B A', 'A B C = triangle12 A B C; D E F G = centroid D E F G A C B; H = incenter H F D C; I J = square E B I J; K = free K; L = intersection_lc L J G F', 'A B C D = isquare A B C D; E F G H = incenter2 E F G H C B D; I J K L = eq_quadrangle I J K L; M N O = triangle M N O', 'A B C D = eq_trapezoid A B C D; E = on_circle E A D; F G H I = isquare F G H I; J = angle_bisector J I H E', 'A B C D = eqdia_quadrangle A B C D; E = intersection_ll E A B D C; F = on_bline F E D; G H I J = quadrangle G H I J', 'A B C D = eq_quadrangle A B C D; E = circle E D C A; F = on_pline F A E B; G H I J = rectangle G H I J; K = on_dia K I H; L = on_dia L J C', 'A B C D = eqdia_quadrangle A B C D; E F G = r_triangle E F G; H = on_line H E G; I J = trisegment I J C E; K = on_circle K B E; L = reflect L C H F; M = angle_mirror M K E J', 'A B C = r_triangle A B C; D = mirror D B A; E = incenter E D C B; F = eqdistance F D C B, on_bline F C E', 'A B C D = isquare A B C D; E = on_circum E D C B', 'A B C = iso_triangle A B C; D = psquare D C B', 'A B C = risos A B C', 'A B C = triangle A B C; D = intersection_lc D A C B; E = psquare E C B; F G H I = trapezoid F G H I; J = on_opline J F E; K L = tangent K L E H F; M = on_circle M L H, s_angle E G M 90', 'A B C = risos A B C; D = incenter D A B C; E F G H = centroid E F G H C D A', 'A B C D = eqdia_quadrangle A B C D; E = shift E C B D; F = circumcenter F D A B; G H I J = r_trapezoid G H I J; K = parallelogram J C H K', 'A B C = ieq_triangle A B C; D E F G = quadrangle D E F G; H I J K = incenter2 H I J K G B D', 'A B C = triangle12 A B C', 'A B C D = eq_trapezoid A B C D; E F G = r_triangle E F G; H = mirror H E C; I = on_circle I B G', 'A = free A; B C D = iso_triangle B C D; E F G = risos E F G; H = on_opline H C F', 'A B C D E = pentagon A B C D E; F G H I = quadrangle F G H I; J = eqdistance J G F H; K = eqangle3 K I D A H G; L = excenter L I A H; M = on_aline M E I L J D', 'A B C D = rectangle A B C D', 'A B C = triangle12 A B C; D = on_circum D C B A; E F G H = r_trapezoid E F G H; I = on_aline I H E F A D, lc_tangent I F A', 'A B C = triangle A B C; D E F = risos D E F; G = on_aline G D A C B F; H = on_circle H B E', 'A B C D = isquare A B C D; E F G = triangle12 E F G; H I J K = isquare H I J K']\n"
     ]
    }
   ],
   "execution_count": 22
  },
  {
   "metadata": {
    "ExecuteTime": {
     "end_time": "2024-09-07T07:29:32.734864Z",
     "start_time": "2024-09-07T07:29:32.707901Z"
    }
   },
   "cell_type": "code",
   "source": [
    "clauses = [f for f in formals if ',' in f]\n",
    "len(clauses)"
   ],
   "outputs": [
    {
     "data": {
      "text/plain": [
       "342"
      ]
     },
     "execution_count": 139,
     "metadata": {},
     "output_type": "execute_result"
    }
   ],
   "execution_count": 139
  },
  {
   "metadata": {
    "ExecuteTime": {
     "end_time": "2024-09-07T07:31:07.847455Z",
     "start_time": "2024-09-07T07:31:07.835617Z"
    }
   },
   "cell_type": "code",
   "source": [
    "frm = random.choice(formals)\n",
    "# frm = clauses[0]\n",
    "# print(parse(frm))\n",
    "print(translator.problem_fl_2_nl(frm))\n",
    "print(disp(frm))"
   ],
   "outputs": [
    {
     "name": "stdout",
     "output_type": "stream",
     "text": [
      "Define points C, A, and B such that C, A, & B is a right angle isosceles triangle with the right angle at A. Points D, G, F, and E are defined such that G & F are constructed such that DEFG forms a square.\n",
      "- - args: [A, B, C]\n",
      "    let: [A, B, C]\n",
      "    symbol: risos\n",
      "- - args: [D, E, F, G]\n",
      "    let: [D, E, F, G]\n",
      "    symbol: isquare\n"
     ]
    }
   ],
   "execution_count": 151
  },
  {
   "metadata": {
    "ExecuteTime": {
     "end_time": "2024-09-07T07:34:30.824508Z",
     "start_time": "2024-09-07T07:34:30.818946Z"
    }
   },
   "cell_type": "code",
   "source": "",
   "outputs": [],
   "execution_count": 157
  },
  {
   "metadata": {
    "ExecuteTime": {
     "end_time": "2024-09-07T07:48:14.608596Z",
     "start_time": "2024-09-07T07:48:14.595826Z"
    }
   },
   "cell_type": "code",
   "source": [
    "prob = random.choice(trainset)\n",
    "prob = evalset[6]\n",
    "print(translator.problem_fl_2_nl(render(prob)))\n",
    "print(disp(render(prob)))"
   ],
   "outputs": [
    {
     "name": "stdout",
     "output_type": "stream",
     "text": [
      "Let A, C, B be points such that ABC is a triangle ABC, such that A and B is half in length to that of B, C. Point D is defined such that D is a point where line DC = line AB.\n",
      "- - args: [A, B, C]\n",
      "    let: [A, B, C]\n",
      "    symbol: triangle12\n",
      "- - args: [D, C, A, B]\n",
      "    let: [D]\n",
      "    symbol: eqdistance\n"
     ]
    }
   ],
   "execution_count": 170
  },
  {
   "metadata": {},
   "cell_type": "code",
   "outputs": [],
   "execution_count": null,
   "source": "print()"
  },
  {
   "metadata": {
    "ExecuteTime": {
     "end_time": "2024-09-07T00:13:53.640714Z",
     "start_time": "2024-09-07T00:13:53.633976Z"
    }
   },
   "cell_type": "code",
   "source": [
    "import re\n",
    "from verb.definitions import ClauseGenerator"
   ],
   "outputs": [],
   "execution_count": 38
  },
  {
   "metadata": {
    "ExecuteTime": {
     "end_time": "2024-09-07T00:14:09.950161Z",
     "start_time": "2024-09-07T00:14:09.943597Z"
    }
   },
   "cell_type": "code",
   "source": [
    "base_path = repo_root() / 'defs.txt'\n",
    "\n",
    "unique_function_names = list(re.findall(r'\\n\\n\\s*(\\w+)', base_path.read_text(), re.MULTILINE))\n",
    "\n",
    "path = repo_root() / 'assets' / 'def-patterns.yml'\n",
    "defs = load_patterns(path)\n",
    "\n",
    "len(unique_function_names)"
   ],
   "outputs": [
    {
     "data": {
      "text/plain": [
       "67"
      ]
     },
     "execution_count": 40,
     "metadata": {},
     "output_type": "execute_result"
    }
   ],
   "execution_count": 40
  },
  {
   "metadata": {
    "ExecuteTime": {
     "end_time": "2024-09-07T00:13:55.491190Z",
     "start_time": "2024-09-07T00:13:55.107495Z"
    }
   },
   "cell_type": "code",
   "source": [
    "\n",
    "for d in unique_function_names:\n",
    "\tctx = Controller(ClauseGenerator(d))\n",
    "\tout = ctx['statement']\n",
    "\t# print(out)\n"
   ],
   "outputs": [
    {
     "name": "stdout",
     "output_type": "stream",
     "text": [
      "\n",
      "A is a point such that ∠LMN equals ∠NMA.\n",
      "L is the center of the circle that passes through N, P, and K.\n",
      "C is the circumcenter of triangle HNY.\n",
      "H, O, C, and K forms a quadrilateral where line KC equals line HO.\n",
      "Z, O, F, and R forms a trapezoid where line ZO is congruent to line FR.\n",
      "W, N, V is an equilateral triangle.\n",
      "D is a point such that ∠RND is congruent to ∠DIR.\n",
      "Line JO, line EB are congruent in quadrilateral EJBO.\n",
      "D is a point where line FV equals line DC.\n",
      "N is the foot of J on line QO.\n",
      "A is a point.\n",
      "G is located at the concurrence of the angle bisectors of triangle EYL.\n",
      "L is located at the incenter of U, W, and I with touchpoints H, C, & E.\n",
      "B is the excenter of triangle LSH.\n",
      "Y is at the excenter of triangle SUJ with touchpoints A, B, and I.\n",
      "K is the point of intersection of the medians of triangle PXU.\n",
      "Triangle KVT has nine-point center E and the circle intersects the sides line VT, line TK, and line KV at A, B, and D respectively.\n",
      "Circle centered at S with radius SN meets circle centered at X with radius XN at the points K, N.\n",
      "Line MY intersects circle centered at K with radius KY at D and Y.\n",
      "Line HV intersects line CZ at the point A.\n",
      "Parallel line UW through S meets line FQ at E.\n",
      "Line HQ not at right angle to line LX. line RG at right angle to line LX crosses line HQ at the point G.\n",
      "Line DE || line FU. line ID || line KR. line DE meets line ID at D.\n",
      "Line HL and line IY are parallel. line GE at right angle to line HL. line PE at right angle to line IY. line GE intersects line PE at E.\n",
      "Triangle ODW is an isosceles triangle with line WO equal to line OD.\n",
      "Line RU is touching to circle centered at B with radius BU at R.\n",
      "I is a point where the distance between I and M equal the distance between S, I.\n",
      "U is on line GK such that U and K is equal to G & K.\n",
      "C, M, U are three consecutive vertices of a square.\n",
      "C is such that ∠CDF is equal to ∠NRY.\n",
      "A is such that ∠CAE is congruent to ∠RUL.\n",
      "Z is on perpendicular bisector of line LF.\n",
      "J is on the circumference of circle centered at V with radius VK.\n",
      "I is on line KZ.\n",
      "A is on a line through I and parallel to line BZ.\n",
      "L is on a line through X and perpendicular to line UW.\n",
      "M is the point of concurrence of the altitudes of triangle PWE.\n",
      "KJWT is a parallelogram.\n",
      "IJKML is a pentagon.\n",
      "U, J, G are three consecutive vertices of a square.\n",
      "FCZO is a quadrilateral.\n",
      "JSRY is a right angle trapezoid, with JS âŠ¥ to JY.\n",
      "REM is a right triangle, with RE âŠ¥ to RM.\n",
      "NITW is a rectangle.\n",
      "B is the reflection of Z over line OF.\n",
      "M, B, and S is a right angle isosceles triangle with the right angle at M.\n",
      "X is such that âˆ AZX is congruent to V degrees.\n",
      "C & Y is a segment of line YC.\n",
      "Line AE is the result of shifting line OB.\n",
      "Given line KJ, construct L & U such that KJLU is a square.\n",
      "Given line QF, construct X, T such that QFXT is a square.\n",
      "PFWY is a trapezoid.\n",
      "UKJ is a triangle UKJ.\n",
      "QMN is a triangle QMN, such that N and M is double in length to that of Q and M.\n",
      "Line TO and line XO are tangents to a circle centered at V at point A and C respectively. The circle centered at V touches circle centered at V with radius VT at L.\n",
      "Line CT is a tangent to the circle centered at H at point Y. line BL is a chord of the circle. It intersects the tangent at point C.\n",
      "Line XI line IM and line MX are sides of triangle XIM. line CD intersects line XI at D, line IM at R and line MX at C such that CD is equivalent to DR.\n",
      "B and T two points on line WN of triangle WVN such that ∠WVN is trisected by BN and NT.\n",
      "L and N are such points on line XU that LX is equal to LN is equal to NU.\n",
      "S is on the circle which has line XI as diameter.\n",
      "Triangle KRV is an equilateral triangle.\n",
      "T is on the extended line line ZC.\n",
      "Line AB is a tangent to the circle centered at M with radius MO at point A and circle centered at N with radius NW at point B..\n",
      "Line CI and line NO are common tangents to circle centered at Z with radius ZY and circle centered at P with radius PV at points C, I and N, O respectively..\n",
      "∠FHQ is congruent to ∠LTX.\n",
      "Line JL and line PL are the two tangents to circle centered at K with radius KU at point J and P respectively..\n",
      "K is on the circumferance of the circle that passes through X, Z, and L.\n"
     ]
    }
   ],
   "execution_count": 39
  },
  {
   "metadata": {
    "ExecuteTime": {
     "end_time": "2024-09-07T00:15:42.514922Z",
     "start_time": "2024-09-07T00:15:42.508933Z"
    }
   },
   "cell_type": "code",
   "source": "ctx['formal']",
   "outputs": [
    {
     "data": {
      "text/plain": [
       "'on_circum K L Z X'"
      ]
     },
     "execution_count": 42,
     "metadata": {},
     "output_type": "execute_result"
    }
   ],
   "execution_count": 42
  },
  {
   "metadata": {},
   "cell_type": "code",
   "outputs": [],
   "execution_count": null,
   "source": ""
  },
  {
   "metadata": {},
   "cell_type": "code",
   "outputs": [],
   "execution_count": null,
   "source": ""
  },
  {
   "metadata": {},
   "cell_type": "code",
   "outputs": [],
   "execution_count": null,
   "source": ""
  },
  {
   "cell_type": "code",
   "execution_count": null,
   "metadata": {},
   "outputs": [],
   "source": []
  }
 ],
 "metadata": {
  "kernelspec": {
   "display_name": "Python 3",
   "language": "python",
   "name": "python3"
  },
  "language_info": {
   "codemirror_mode": {
    "name": "ipython",
    "version": 3
   },
   "file_extension": ".py",
   "mimetype": "text/x-python",
   "name": "python",
   "nbconvert_exporter": "python",
   "pygments_lexer": "ipython3",
   "version": "3.12.4"
  }
 },
 "nbformat": 4,
 "nbformat_minor": 2
}
