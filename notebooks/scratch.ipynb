{
 "cells": [
  {
   "metadata": {},
   "cell_type": "code",
   "outputs": [],
   "execution_count": null,
   "source": "",
   "id": "cbd7a8827bab91db"
  },
  {
   "metadata": {},
   "cell_type": "code",
   "outputs": [],
   "execution_count": null,
   "source": "",
   "id": "727f41e8e4f986f0"
  },
  {
   "metadata": {
    "ExecuteTime": {
     "end_time": "2024-05-24T14:57:50.058961Z",
     "start_time": "2024-05-24T14:57:50.045894Z"
    }
   },
   "cell_type": "code",
   "source": [
    "import ast\n",
    "import astor"
   ],
   "id": "a75b95229193bde2",
   "outputs": [],
   "execution_count": 1
  },
  {
   "metadata": {
    "ExecuteTime": {
     "end_time": "2024-05-24T14:57:50.250175Z",
     "start_time": "2024-05-24T14:57:50.061420Z"
    }
   },
   "cell_type": "code",
   "source": [
    "\n",
    "class UnnestFunctionCalls(ast.NodeTransformer):\n",
    "    def __init__(self):\n",
    "        self.temp_count = 0\n",
    "\n",
    "    def generate_temp_name(self):\n",
    "        name = f\"temp_{self.temp_count}\"\n",
    "        self.temp_count += 1\n",
    "        return name\n",
    "\n",
    "    def visit_Call(self, node):\n",
    "        # First, ensure all child nodes are processed\n",
    "        self.generic_visit(node)\n",
    "\n",
    "        # Check if there are function calls among the arguments\n",
    "        for i, arg in enumerate(node.args):\n",
    "            if isinstance(arg, ast.Call):\n",
    "                # Generate a new temporary variable for the nested call\n",
    "                temp_name = self.generate_temp_name()\n",
    "                temp_var = ast.Name(id=temp_name, ctx=ast.Store())\n",
    "\n",
    "                # Replace the nested call with the temporary variable\n",
    "                node.args[i] = ast.Name(id=temp_name, ctx=ast.Load())\n",
    "\n",
    "                # Create an assignment for the nested call\n",
    "                assign = ast.Assign(targets=[temp_var], value=arg)\n",
    "\n",
    "                # Return a block of statements (assignment + current call)\n",
    "                return ast.Expr(value=ast.Tuple(elts=[assign, node], ctx=ast.Load()))\n",
    "\n",
    "        return node\n",
    "\n",
    "def unnest_function_calls(code):\n",
    "    tree = ast.parse(code, mode='eval')\n",
    "    transformer = UnnestFunctionCalls()\n",
    "    new_tree = transformer.visit(tree)\n",
    "    return astor.to_source(new_tree)\n"
   ],
   "id": "3714d26b5bafa3af",
   "outputs": [],
   "execution_count": 2
  },
  {
   "metadata": {
    "ExecuteTime": {
     "end_time": "2024-05-24T14:57:50.510021Z",
     "start_time": "2024-05-24T14:57:50.252545Z"
    }
   },
   "cell_type": "code",
   "source": [
    "\n",
    "# Example usage\n",
    "code = \"f(g(h(1), 2), i(3, j(4)))\"\n",
    "unnested_code = unnest_function_calls(code)\n",
    "print(unnested_code)\n"
   ],
   "id": "1ebbac79699bd586",
   "outputs": [
    {
     "name": "stdout",
     "output_type": "stream",
     "text": [
      "f(\n",
      "\n",
      "temp_0 = h(1), g(temp_0, 2), \n",
      "\n",
      "temp_1 = j(4), i(3, temp_1))\n",
      "\n"
     ]
    }
   ],
   "execution_count": 3
  },
  {
   "cell_type": "code",
   "id": "initial_id",
   "metadata": {
    "collapsed": true,
    "ExecuteTime": {
     "end_time": "2024-05-24T15:00:01.392770Z",
     "start_time": "2024-05-24T15:00:00.976577Z"
    }
   },
   "source": [
    "import ast\n",
    "import astor\n",
    "import unittest\n",
    "\n",
    "class UnnestFunctionCalls(ast.NodeTransformer):\n",
    "    def __init__(self):\n",
    "        self.temp_count = 0\n",
    "\n",
    "    def generate_temp_name(self):\n",
    "        name = f\"temp_{self.temp_count}\"\n",
    "        self.temp_count += 1\n",
    "        return name\n",
    "\n",
    "    def visit_Call(self, node):\n",
    "        # Ensure all child nodes are processed\n",
    "        self.generic_visit(node)\n",
    "\n",
    "        # Initialize a block of statements if necessary\n",
    "        new_stmts = []\n",
    "\n",
    "        # Replace function calls in arguments with temporary variables\n",
    "        for i, arg in enumerate(node.args):\n",
    "            if isinstance(arg, ast.Call):\n",
    "                temp_name = self.generate_temp_name()\n",
    "                temp_var = ast.Name(id=temp_name, ctx=ast.Store())\n",
    "\n",
    "                node.args[i] = ast.Name(id=temp_name, ctx=ast.Load())\n",
    "                assign = ast.Assign(targets=[temp_var], value=arg)\n",
    "                new_stmts.append(assign)\n",
    "\n",
    "        if new_stmts:\n",
    "            new_stmts.append(ast.Expr(value=node))\n",
    "            return ast.Tuple(elts=new_stmts, ctx=ast.Load())\n",
    "\n",
    "        return node\n",
    "\n",
    "def unnest_function_calls(code):\n",
    "    tree = ast.parse(code, mode='eval')\n",
    "    transformer = UnnestFunctionCalls()\n",
    "    new_tree = transformer.visit(tree)\n",
    "    return astor.to_source(new_tree).strip()\n",
    "\n",
    "class TestUnnestFunctionCalls(unittest.TestCase):\n",
    "    def test_single_nested_call(self):\n",
    "        code = \"f(g(h(1)))\"\n",
    "        expected = \"(temp_0 = h(1), temp_1 = g(temp_0), f(temp_1))\"\n",
    "        self.assertEqual(unnest_function_calls(code), expected)\n",
    "\n",
    "    def test_multiple_arguments(self):\n",
    "        code = \"f(g(h(1), 2), i(3, j(4)))\"\n",
    "        expected = \"(temp_0 = h(1), temp_1 = g(temp_0, 2), temp_2 = j(4), temp_3 = i(3, temp_2), f(temp_1, temp_3))\"\n",
    "        self.assertEqual(unnest_function_calls(code), expected)\n",
    "\n",
    "    def test_no_nested_calls(self):\n",
    "        code = \"f(1, 2)\"\n",
    "        expected = \"f(1, 2)\"\n",
    "        self.assertEqual(unnest_function_calls(code), expected)\n",
    "\n",
    "    def test_nested_calls_with_keywords(self):\n",
    "        code = \"f(x=g(h(1)), y=i(3))\"\n",
    "        expected = \"(temp_0 = h(1), temp_1 = g(temp_0), temp_2 = i(3), f(x=temp_1, y=temp_2))\"\n",
    "        self.assertEqual(unnest_function_calls(code), expected)\n",
    "\n",
    "    def test_nested_in_list(self):\n",
    "        code = \"f([g(h(1)), i(j(2))])\"\n",
    "        expected = \"(temp_0 = h(1), temp_1 = g(temp_0), temp_2 = j(2), temp_3 = i(temp_2), f([temp_1, temp_3]))\"\n",
    "        self.assertEqual(unnest_function_calls(code), expected)\n",
    "\n",
    "    def test_nested_in_dict(self):\n",
    "        code = \"f({'a': g(h(1)), 'b': i(j(2))})\"\n",
    "        expected = \"(temp_0 = h(1), temp_1 = g(temp_0), temp_2 = j(2), temp_3 = i(temp_2), f({'a': temp_1, 'b': temp_3}))\"\n",
    "        self.assertEqual(unnest_function_calls(code), expected)\n",
    "\n",
    "unittest.main()"
   ],
   "outputs": [
    {
     "name": "stderr",
     "output_type": "stream",
     "text": [
      "E\n",
      "======================================================================\n",
      "ERROR: /home/fleeb/ (unittest.loader._FailedTest./home/fleeb/)\n",
      "----------------------------------------------------------------------\n",
      "AttributeError: module '__main__' has no attribute '/home/fleeb/'\n",
      "\n",
      "----------------------------------------------------------------------\n",
      "Ran 1 test in 0.001s\n",
      "\n",
      "FAILED (errors=1)\n"
     ]
    },
    {
     "ename": "SystemExit",
     "evalue": "True",
     "output_type": "error",
     "traceback": [
      "An exception has occurred, use %tb to see the full traceback.\n",
      "\u001B[0;31mSystemExit\u001B[0m\u001B[0;31m:\u001B[0m True\n"
     ]
    },
    {
     "name": "stderr",
     "output_type": "stream",
     "text": [
      "/home/fleeb/miniconda3/envs/alphageometry/lib/python3.11/site-packages/IPython/core/interactiveshell.py:3585: UserWarning: To exit: use 'exit', 'quit', or Ctrl-D.\n",
      "  warn(\"To exit: use 'exit', 'quit', or Ctrl-D.\", stacklevel=1)\n"
     ]
    }
   ],
   "execution_count": 4
  },
  {
   "metadata": {},
   "cell_type": "code",
   "outputs": [],
   "execution_count": null,
   "source": "",
   "id": "a2852367fe4378da"
  },
  {
   "metadata": {
    "ExecuteTime": {
     "end_time": "2024-05-24T15:19:18.491616Z",
     "start_time": "2024-05-24T15:19:18.485250Z"
    }
   },
   "cell_type": "code",
   "source": [
    "\n",
    "import ast\n",
    "import astor\n",
    "\n",
    "\n",
    "class Unnester(ast.NodeTransformer):\n",
    "\tdef __init__(self):\n",
    "\t\tself.var_counter = 0\n",
    "\n",
    "\tdef generate_variable_name(self):\n",
    "\t\tname = f\"temp_{self.var_counter}\"\n",
    "\t\tself.var_counter += 1\n",
    "\t\treturn name\n",
    "\n",
    "\tdef visit_Call(self, node):\n",
    "\t\t# Recursively visit the arguments of the call that might contain other calls\n",
    "\t\tself.generic_visit(node)\n",
    "\n",
    "\t\t# Create a temporary variable for each call\n",
    "\t\ttemp_var_name = self.generate_variable_name()\n",
    "\t\ttemp_var = ast.Name(id=temp_var_name, ctx=ast.Store())\n",
    "\n",
    "\t\t# Replace the original call with a variable name\n",
    "\t\tnew_node = ast.Name(id=temp_var_name, ctx=ast.Load())\n",
    "\n",
    "\t\t# Create an assignment of the call to the temporary variable\n",
    "\t\tassign = ast.Assign(targets=[temp_var], value=node)\n",
    "\n",
    "\t\t# Instead of the original node, return the assignment and the usage of the new variable\n",
    "\t\treturn ast.Expr(value=ast.Tuple(elts=[assign, new_node], ctx=ast.Load()))\n",
    "\n",
    "\n",
    "def unnest_calls(code):\n",
    "\ttree = ast.parse(code)\n",
    "\tunnester = Unnester()\n",
    "\tnew_tree = unnester.visit(tree)\n",
    "\tnew_tree = ast.fix_missing_locations(new_tree)\n",
    "\treturn astor.to_source(new_tree)\n",
    "\n"
   ],
   "id": "fb580ed1f3c85e37",
   "outputs": [],
   "execution_count": 5
  },
  {
   "metadata": {
    "ExecuteTime": {
     "end_time": "2024-05-24T15:19:36.005465Z",
     "start_time": "2024-05-24T15:19:35.998382Z"
    }
   },
   "cell_type": "code",
   "source": [
    "source = 'f(g(1), h(2))'\n",
    "print(unnest_calls(source))"
   ],
   "id": "635ca4829381e1d",
   "outputs": [
    {
     "name": "stdout",
     "output_type": "stream",
     "text": [
      "\n",
      "temp_2 = f(\n",
      "\n",
      "temp_0 = g(1), temp_0, \n",
      "\n",
      "temp_1 = h(2), temp_1), temp_2\n",
      "\n"
     ]
    }
   ],
   "execution_count": 6
  },
  {
   "metadata": {
    "ExecuteTime": {
     "end_time": "2024-05-24T15:29:14.714982Z",
     "start_time": "2024-05-24T15:25:57.966178Z"
    }
   },
   "cell_type": "code",
   "source": [
    "import ast\n",
    "import astor\n",
    "\n",
    "def unnest_calls(code):\n",
    "    class CallTransformer(ast.NodeTransformer):\n",
    "        def __init__(self):\n",
    "            self.temp_counter = 0\n",
    "\n",
    "        def get_temp_name(self):\n",
    "            name = f\"v{self.temp_counter}\"\n",
    "            self.temp_counter += 1\n",
    "            return name\n",
    "\n",
    "        def visit_Call(self, node):\n",
    "            # First ensure the current call's arguments are visited\n",
    "            node.args = [self.visit(arg) for arg in node.args]\n",
    "\n",
    "            # Now, replace nested calls with variables\n",
    "            for i, arg in enumerate(node.args):\n",
    "                if isinstance(arg, ast.Call):\n",
    "                    temp_name = self.get_temp_name()\n",
    "                    temp_var = ast.Name(id=temp_name, ctx=ast.Store())\n",
    "                    assign = ast.Assign(targets=[temp_var], value=arg)\n",
    "                    self.temp_statements.append(assign)\n",
    "                    node.args[i] = ast.Name(id=temp_name, ctx=ast.Load())\n",
    "\n",
    "            return node\n",
    "\n",
    "        def transform(self, node):\n",
    "            self.temp_statements = []\n",
    "            new_node = self.visit(node)  # Visit the entire expression to handle nested calls\n",
    "            self.temp_statements.append(new_node)  # Append the final expression after all modifications\n",
    "            return self.temp_statements\n",
    "\n",
    "    tree = ast.parse(code)\n",
    "    transformer = CallTransformer()\n",
    "    # Ensure the original statement is handled, not just the value expression\n",
    "    transformed_statements = transformer.transform(tree.body[0].value)\n",
    "    tree.body[0].value = ast.Tuple(elts=transformed_statements, ctx=ast.Load())\n",
    "    \n",
    "    return astor.to_source(tree)\n",
    "\n",
    "# Example usage\n",
    "code = \"result = f(g(1), h(2))\"\n",
    "print(unnest_calls(code))\n"
   ],
   "id": "6e29f9c29ef1c2a1",
   "outputs": [
    {
     "ename": "KeyboardInterrupt",
     "evalue": "",
     "output_type": "error",
     "traceback": [
      "\u001B[0;31m---------------------------------------------------------------------------\u001B[0m",
      "\u001B[0;31mKeyboardInterrupt\u001B[0m                         Traceback (most recent call last)",
      "Cell \u001B[0;32mIn[10], line 45\u001B[0m\n\u001B[1;32m     43\u001B[0m \u001B[38;5;66;03m# Example usage\u001B[39;00m\n\u001B[1;32m     44\u001B[0m code \u001B[38;5;241m=\u001B[39m \u001B[38;5;124m\"\u001B[39m\u001B[38;5;124mresult = f(g(1), h(2))\u001B[39m\u001B[38;5;124m\"\u001B[39m\n\u001B[0;32m---> 45\u001B[0m \u001B[38;5;28mprint\u001B[39m(\u001B[43munnest_calls\u001B[49m\u001B[43m(\u001B[49m\u001B[43mcode\u001B[49m\u001B[43m)\u001B[49m)\n",
      "Cell \u001B[0;32mIn[10], line 38\u001B[0m, in \u001B[0;36munnest_calls\u001B[0;34m(code)\u001B[0m\n\u001B[1;32m     36\u001B[0m transformer \u001B[38;5;241m=\u001B[39m CallTransformer()\n\u001B[1;32m     37\u001B[0m \u001B[38;5;66;03m# Ensure the original statement is handled, not just the value expression\u001B[39;00m\n\u001B[0;32m---> 38\u001B[0m transformed_statements \u001B[38;5;241m=\u001B[39m \u001B[43mtransformer\u001B[49m\u001B[38;5;241;43m.\u001B[39;49m\u001B[43mtransform\u001B[49m\u001B[43m(\u001B[49m\u001B[43mtree\u001B[49m\u001B[38;5;241;43m.\u001B[39;49m\u001B[43mbody\u001B[49m\u001B[43m[\u001B[49m\u001B[38;5;241;43m0\u001B[39;49m\u001B[43m]\u001B[49m\u001B[38;5;241;43m.\u001B[39;49m\u001B[43mvalue\u001B[49m\u001B[43m)\u001B[49m\n\u001B[1;32m     39\u001B[0m tree\u001B[38;5;241m.\u001B[39mbody[\u001B[38;5;241m0\u001B[39m]\u001B[38;5;241m.\u001B[39mvalue \u001B[38;5;241m=\u001B[39m ast\u001B[38;5;241m.\u001B[39mTuple(elts\u001B[38;5;241m=\u001B[39mtransformed_statements, ctx\u001B[38;5;241m=\u001B[39mast\u001B[38;5;241m.\u001B[39mLoad())\n\u001B[1;32m     41\u001B[0m \u001B[38;5;28;01mreturn\u001B[39;00m astor\u001B[38;5;241m.\u001B[39mto_source(tree)\n",
      "Cell \u001B[0;32mIn[10], line 31\u001B[0m, in \u001B[0;36munnest_calls.<locals>.CallTransformer.transform\u001B[0;34m(self, node)\u001B[0m\n\u001B[1;32m     29\u001B[0m \u001B[38;5;28;01mdef\u001B[39;00m \u001B[38;5;21mtransform\u001B[39m(\u001B[38;5;28mself\u001B[39m, node):\n\u001B[1;32m     30\u001B[0m     \u001B[38;5;28mself\u001B[39m\u001B[38;5;241m.\u001B[39mtemp_statements \u001B[38;5;241m=\u001B[39m []\n\u001B[0;32m---> 31\u001B[0m     new_node \u001B[38;5;241m=\u001B[39m \u001B[38;5;28;43mself\u001B[39;49m\u001B[38;5;241;43m.\u001B[39;49m\u001B[43mvisit\u001B[49m\u001B[43m(\u001B[49m\u001B[43mnode\u001B[49m\u001B[43m)\u001B[49m  \u001B[38;5;66;03m# Visit the entire expression to handle nested calls\u001B[39;00m\n\u001B[1;32m     32\u001B[0m     \u001B[38;5;28mself\u001B[39m\u001B[38;5;241m.\u001B[39mtemp_statements\u001B[38;5;241m.\u001B[39mappend(new_node)  \u001B[38;5;66;03m# Append the final expression after all modifications\u001B[39;00m\n\u001B[1;32m     33\u001B[0m     \u001B[38;5;28;01mreturn\u001B[39;00m \u001B[38;5;28mself\u001B[39m\u001B[38;5;241m.\u001B[39mtemp_statements\n",
      "File \u001B[0;32m~/miniconda3/envs/alphageometry/lib/python3.11/ast.py:418\u001B[0m, in \u001B[0;36mNodeVisitor.visit\u001B[0;34m(self, node)\u001B[0m\n\u001B[1;32m    416\u001B[0m method \u001B[38;5;241m=\u001B[39m \u001B[38;5;124m'\u001B[39m\u001B[38;5;124mvisit_\u001B[39m\u001B[38;5;124m'\u001B[39m \u001B[38;5;241m+\u001B[39m node\u001B[38;5;241m.\u001B[39m\u001B[38;5;18m__class__\u001B[39m\u001B[38;5;241m.\u001B[39m\u001B[38;5;18m__name__\u001B[39m\n\u001B[1;32m    417\u001B[0m visitor \u001B[38;5;241m=\u001B[39m \u001B[38;5;28mgetattr\u001B[39m(\u001B[38;5;28mself\u001B[39m, method, \u001B[38;5;28mself\u001B[39m\u001B[38;5;241m.\u001B[39mgeneric_visit)\n\u001B[0;32m--> 418\u001B[0m \u001B[38;5;28;01mreturn\u001B[39;00m \u001B[43mvisitor\u001B[49m\u001B[43m(\u001B[49m\u001B[43mnode\u001B[49m\u001B[43m)\u001B[49m\n",
      "Cell \u001B[0;32mIn[10], line 16\u001B[0m, in \u001B[0;36munnest_calls.<locals>.CallTransformer.visit_Call\u001B[0;34m(self, node)\u001B[0m\n\u001B[1;32m     14\u001B[0m \u001B[38;5;28;01mdef\u001B[39;00m \u001B[38;5;21mvisit_Call\u001B[39m(\u001B[38;5;28mself\u001B[39m, node):\n\u001B[1;32m     15\u001B[0m     \u001B[38;5;66;03m# First ensure the current call's arguments are visited\u001B[39;00m\n\u001B[0;32m---> 16\u001B[0m     node\u001B[38;5;241m.\u001B[39margs \u001B[38;5;241m=\u001B[39m \u001B[43m[\u001B[49m\u001B[38;5;28;43mself\u001B[39;49m\u001B[38;5;241;43m.\u001B[39;49m\u001B[43mvisit\u001B[49m\u001B[43m(\u001B[49m\u001B[43marg\u001B[49m\u001B[43m)\u001B[49m\u001B[43m \u001B[49m\u001B[38;5;28;43;01mfor\u001B[39;49;00m\u001B[43m \u001B[49m\u001B[43marg\u001B[49m\u001B[43m \u001B[49m\u001B[38;5;129;43;01min\u001B[39;49;00m\u001B[43m \u001B[49m\u001B[43mnode\u001B[49m\u001B[38;5;241;43m.\u001B[39;49m\u001B[43margs\u001B[49m\u001B[43m]\u001B[49m\n\u001B[1;32m     18\u001B[0m     \u001B[38;5;66;03m# Now, replace nested calls with variables\u001B[39;00m\n\u001B[1;32m     19\u001B[0m     \u001B[38;5;28;01mfor\u001B[39;00m i, arg \u001B[38;5;129;01min\u001B[39;00m \u001B[38;5;28menumerate\u001B[39m(node\u001B[38;5;241m.\u001B[39margs):\n",
      "Cell \u001B[0;32mIn[10], line 16\u001B[0m, in \u001B[0;36m<listcomp>\u001B[0;34m(.0)\u001B[0m\n\u001B[1;32m     14\u001B[0m \u001B[38;5;28;01mdef\u001B[39;00m \u001B[38;5;21mvisit_Call\u001B[39m(\u001B[38;5;28mself\u001B[39m, node):\n\u001B[1;32m     15\u001B[0m     \u001B[38;5;66;03m# First ensure the current call's arguments are visited\u001B[39;00m\n\u001B[0;32m---> 16\u001B[0m     node\u001B[38;5;241m.\u001B[39margs \u001B[38;5;241m=\u001B[39m [\u001B[38;5;28;43mself\u001B[39;49m\u001B[38;5;241;43m.\u001B[39;49m\u001B[43mvisit\u001B[49m\u001B[43m(\u001B[49m\u001B[43marg\u001B[49m\u001B[43m)\u001B[49m \u001B[38;5;28;01mfor\u001B[39;00m arg \u001B[38;5;129;01min\u001B[39;00m node\u001B[38;5;241m.\u001B[39margs]\n\u001B[1;32m     18\u001B[0m     \u001B[38;5;66;03m# Now, replace nested calls with variables\u001B[39;00m\n\u001B[1;32m     19\u001B[0m     \u001B[38;5;28;01mfor\u001B[39;00m i, arg \u001B[38;5;129;01min\u001B[39;00m \u001B[38;5;28menumerate\u001B[39m(node\u001B[38;5;241m.\u001B[39margs):\n",
      "File \u001B[0;32m~/miniconda3/envs/alphageometry/lib/python3.11/ast.py:418\u001B[0m, in \u001B[0;36mNodeVisitor.visit\u001B[0;34m(self, node)\u001B[0m\n\u001B[1;32m    416\u001B[0m method \u001B[38;5;241m=\u001B[39m \u001B[38;5;124m'\u001B[39m\u001B[38;5;124mvisit_\u001B[39m\u001B[38;5;124m'\u001B[39m \u001B[38;5;241m+\u001B[39m node\u001B[38;5;241m.\u001B[39m\u001B[38;5;18m__class__\u001B[39m\u001B[38;5;241m.\u001B[39m\u001B[38;5;18m__name__\u001B[39m\n\u001B[1;32m    417\u001B[0m visitor \u001B[38;5;241m=\u001B[39m \u001B[38;5;28mgetattr\u001B[39m(\u001B[38;5;28mself\u001B[39m, method, \u001B[38;5;28mself\u001B[39m\u001B[38;5;241m.\u001B[39mgeneric_visit)\n\u001B[0;32m--> 418\u001B[0m \u001B[38;5;28;01mreturn\u001B[39;00m \u001B[43mvisitor\u001B[49m\u001B[43m(\u001B[49m\u001B[43mnode\u001B[49m\u001B[43m)\u001B[49m\n",
      "Cell \u001B[0;32mIn[10], line 27\u001B[0m, in \u001B[0;36munnest_calls.<locals>.CallTransformer.visit_Call\u001B[0;34m(self, node)\u001B[0m\n\u001B[1;32m     24\u001B[0m         \u001B[38;5;28mself\u001B[39m\u001B[38;5;241m.\u001B[39mtemp_statements\u001B[38;5;241m.\u001B[39mappend(assign)\n\u001B[1;32m     25\u001B[0m         node\u001B[38;5;241m.\u001B[39margs[i] \u001B[38;5;241m=\u001B[39m ast\u001B[38;5;241m.\u001B[39mName(\u001B[38;5;28mid\u001B[39m\u001B[38;5;241m=\u001B[39mtemp_name, ctx\u001B[38;5;241m=\u001B[39mast\u001B[38;5;241m.\u001B[39mLoad())\n\u001B[0;32m---> 27\u001B[0m \u001B[38;5;28;01mreturn\u001B[39;00m \u001B[43mnode\u001B[49m\n",
      "File \u001B[0;32m/snap/pycharm-professional/387/plugins/python/helpers/pydev/_pydevd_bundle/pydevd_frame.py:888\u001B[0m, in \u001B[0;36mPyDBFrame.trace_dispatch\u001B[0;34m(self, frame, event, arg)\u001B[0m\n\u001B[1;32m    885\u001B[0m             stop \u001B[38;5;241m=\u001B[39m \u001B[38;5;28;01mFalse\u001B[39;00m\n\u001B[1;32m    887\u001B[0m \u001B[38;5;28;01mif\u001B[39;00m plugin_stop:\n\u001B[0;32m--> 888\u001B[0m     stopped_on_plugin \u001B[38;5;241m=\u001B[39m \u001B[43mplugin_manager\u001B[49m\u001B[38;5;241;43m.\u001B[39;49m\u001B[43mstop\u001B[49m\u001B[43m(\u001B[49m\u001B[43mmain_debugger\u001B[49m\u001B[43m,\u001B[49m\u001B[43m \u001B[49m\u001B[43mframe\u001B[49m\u001B[43m,\u001B[49m\u001B[43m \u001B[49m\u001B[43mevent\u001B[49m\u001B[43m,\u001B[49m\u001B[43m \u001B[49m\u001B[38;5;28;43mself\u001B[39;49m\u001B[38;5;241;43m.\u001B[39;49m\u001B[43m_args\u001B[49m\u001B[43m,\u001B[49m\u001B[43m \u001B[49m\u001B[43mstop_info\u001B[49m\u001B[43m,\u001B[49m\u001B[43m \u001B[49m\u001B[43marg\u001B[49m\u001B[43m,\u001B[49m\u001B[43m \u001B[49m\u001B[43mstep_cmd\u001B[49m\u001B[43m)\u001B[49m\n\u001B[1;32m    889\u001B[0m \u001B[38;5;28;01melif\u001B[39;00m stop:\n\u001B[1;32m    890\u001B[0m     \u001B[38;5;28;01mif\u001B[39;00m is_line:\n",
      "File \u001B[0;32m/snap/pycharm-professional/387/plugins/python/helpers-pro/jupyter_debug/pydev_jupyter_plugin.py:169\u001B[0m, in \u001B[0;36mstop\u001B[0;34m(plugin, pydb, frame, event, args, stop_info, arg, step_cmd)\u001B[0m\n\u001B[1;32m    167\u001B[0m     frame \u001B[38;5;241m=\u001B[39m suspend_jupyter(main_debugger, thread, frame, step_cmd)\n\u001B[1;32m    168\u001B[0m     \u001B[38;5;28;01mif\u001B[39;00m frame:\n\u001B[0;32m--> 169\u001B[0m         \u001B[43mmain_debugger\u001B[49m\u001B[38;5;241;43m.\u001B[39;49m\u001B[43mdo_wait_suspend\u001B[49m\u001B[43m(\u001B[49m\u001B[43mthread\u001B[49m\u001B[43m,\u001B[49m\u001B[43m \u001B[49m\u001B[43mframe\u001B[49m\u001B[43m,\u001B[49m\u001B[43m \u001B[49m\u001B[43mevent\u001B[49m\u001B[43m,\u001B[49m\u001B[43m \u001B[49m\u001B[43marg\u001B[49m\u001B[43m)\u001B[49m\n\u001B[1;32m    170\u001B[0m         \u001B[38;5;28;01mreturn\u001B[39;00m \u001B[38;5;28;01mTrue\u001B[39;00m\n\u001B[1;32m    171\u001B[0m \u001B[38;5;28;01mreturn\u001B[39;00m \u001B[38;5;28;01mFalse\u001B[39;00m\n",
      "File \u001B[0;32m/snap/pycharm-professional/387/plugins/python/helpers/pydev/pydevd.py:1185\u001B[0m, in \u001B[0;36mPyDB.do_wait_suspend\u001B[0;34m(self, thread, frame, event, arg, send_suspend_message, is_unhandled_exception)\u001B[0m\n\u001B[1;32m   1182\u001B[0m         from_this_thread\u001B[38;5;241m.\u001B[39mappend(frame_id)\n\u001B[1;32m   1184\u001B[0m \u001B[38;5;28;01mwith\u001B[39;00m \u001B[38;5;28mself\u001B[39m\u001B[38;5;241m.\u001B[39m_threads_suspended_single_notification\u001B[38;5;241m.\u001B[39mnotify_thread_suspended(thread_id, stop_reason):\n\u001B[0;32m-> 1185\u001B[0m     \u001B[38;5;28;43mself\u001B[39;49m\u001B[38;5;241;43m.\u001B[39;49m\u001B[43m_do_wait_suspend\u001B[49m\u001B[43m(\u001B[49m\u001B[43mthread\u001B[49m\u001B[43m,\u001B[49m\u001B[43m \u001B[49m\u001B[43mframe\u001B[49m\u001B[43m,\u001B[49m\u001B[43m \u001B[49m\u001B[43mevent\u001B[49m\u001B[43m,\u001B[49m\u001B[43m \u001B[49m\u001B[43marg\u001B[49m\u001B[43m,\u001B[49m\u001B[43m \u001B[49m\u001B[43msuspend_type\u001B[49m\u001B[43m,\u001B[49m\u001B[43m \u001B[49m\u001B[43mfrom_this_thread\u001B[49m\u001B[43m)\u001B[49m\n",
      "File \u001B[0;32m/snap/pycharm-professional/387/plugins/python/helpers/pydev/pydevd.py:1200\u001B[0m, in \u001B[0;36mPyDB._do_wait_suspend\u001B[0;34m(self, thread, frame, event, arg, suspend_type, from_this_thread)\u001B[0m\n\u001B[1;32m   1197\u001B[0m             \u001B[38;5;28mself\u001B[39m\u001B[38;5;241m.\u001B[39m_call_mpl_hook()\n\u001B[1;32m   1199\u001B[0m         \u001B[38;5;28mself\u001B[39m\u001B[38;5;241m.\u001B[39mprocess_internal_commands()\n\u001B[0;32m-> 1200\u001B[0m         time\u001B[38;5;241m.\u001B[39msleep(\u001B[38;5;241m0.01\u001B[39m)\n\u001B[1;32m   1202\u001B[0m \u001B[38;5;28mself\u001B[39m\u001B[38;5;241m.\u001B[39mcancel_async_evaluation(get_current_thread_id(thread), \u001B[38;5;28mstr\u001B[39m(\u001B[38;5;28mid\u001B[39m(frame)))\n\u001B[1;32m   1204\u001B[0m \u001B[38;5;66;03m# process any stepping instructions\u001B[39;00m\n",
      "\u001B[0;31mKeyboardInterrupt\u001B[0m: "
     ]
    }
   ],
   "execution_count": 10
  },
  {
   "metadata": {},
   "cell_type": "code",
   "outputs": [],
   "execution_count": null,
   "source": "",
   "id": "69fa59e8b13e186b"
  },
  {
   "metadata": {
    "ExecuteTime": {
     "end_time": "2024-05-24T15:52:35.304069Z",
     "start_time": "2024-05-24T15:52:35.290537Z"
    }
   },
   "cell_type": "code",
   "source": [
    "import ast\n",
    "\n",
    "def unnest_expression(expression):\n",
    "    tree = ast.parse(expression, mode='eval')\n",
    "    \n",
    "    # This list will hold all our operations\n",
    "    operations = []\n",
    "    # This counter will help us create unique variable names\n",
    "    var_counter = [0]\n",
    "    \n",
    "    def handle_node(node):\n",
    "        if isinstance(node, ast.Num):  # For numbers\n",
    "            var_name = f'v{var_counter[0]}'\n",
    "            var_counter[0] += 1\n",
    "            operations.append((var_name, None, node.n))\n",
    "            return var_name\n",
    "        elif isinstance(node, ast.Name):  # For variables\n",
    "            var_name = f'v{var_counter[0]}'\n",
    "            var_counter[0] += 1\n",
    "            operations.append((var_name, None, node.id))\n",
    "            return var_name\n",
    "        elif isinstance(node, ast.Call):\n",
    "            args = [handle_node(arg) for arg in node.args]\n",
    "            func_name = node.func.id\n",
    "            var_name = f'v{var_counter[0]}'\n",
    "            var_counter[0] += 1\n",
    "            operations.append((var_name, func_name, args))\n",
    "            return var_name\n",
    "        else:\n",
    "            raise ValueError(\"Unsupported expression type\")\n",
    "    \n",
    "    handle_node(tree.body)\n",
    "    \n",
    "    operations[-1] = (None, *operations[-1][1:])\n",
    "    \n",
    "    return operations\n",
    "\n",
    "result = unnest_expression(\"f(g(1), h(x))\")\n",
    "expected = [\n",
    "    ('v0', None, 1), ('v1', 'g', ['v0']), ('v2', None, 'x'), ('v3', 'h', ['v2']), (None, 'f', ['v1', 'v3'])\n",
    "]\n",
    "result = unnest_expression('f(g(h(x), y))')\n",
    "result"
   ],
   "id": "ecdafd4c53c842c0",
   "outputs": [
    {
     "data": {
      "text/plain": [
       "[('v0', None, 'x'),\n",
       " ('v1', 'h', ['v0']),\n",
       " ('v2', None, 'y'),\n",
       " ('v3', 'g', ['v1', 'v2']),\n",
       " (None, 'f', ['v3'])]"
      ]
     },
     "execution_count": 21,
     "metadata": {},
     "output_type": "execute_result"
    }
   ],
   "execution_count": 21
  },
  {
   "metadata": {},
   "cell_type": "code",
   "outputs": [],
   "execution_count": null,
   "source": "",
   "id": "9d8fe5c9e2645984"
  },
  {
   "metadata": {},
   "cell_type": "code",
   "outputs": [],
   "execution_count": null,
   "source": "",
   "id": "8fb5704d4cef30b6"
  },
  {
   "metadata": {},
   "cell_type": "code",
   "outputs": [],
   "execution_count": null,
   "source": "",
   "id": "3a09a7f5b35d172d"
  }
 ],
 "metadata": {
  "kernelspec": {
   "display_name": "Python 3",
   "language": "python",
   "name": "python3"
  },
  "language_info": {
   "codemirror_mode": {
    "name": "ipython",
    "version": 2
   },
   "file_extension": ".py",
   "mimetype": "text/x-python",
   "name": "python",
   "nbconvert_exporter": "python",
   "pygments_lexer": "ipython2",
   "version": "2.7.6"
  }
 },
 "nbformat": 4,
 "nbformat_minor": 5
}
