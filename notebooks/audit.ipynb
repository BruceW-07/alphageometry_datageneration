{
 "cells": [
  {
   "metadata": {
    "ExecuteTime": {
     "end_time": "2024-09-08T23:23:18.043200Z",
     "start_time": "2024-09-08T23:23:18.031387Z"
    }
   },
   "cell_type": "code",
   "source": [
    "from pathlib import Path\n",
    "from util import repo_root\n",
    "import json\n",
    "from tqdm.notebook import tqdm\n",
    "from tabulate import tabulate\n",
    "import pandas as pd\n",
    "import tiktoken"
   ],
   "id": "97b4cc459216b422",
   "outputs": [],
   "execution_count": 25
  },
  {
   "metadata": {
    "ExecuteTime": {
     "end_time": "2024-09-08T23:11:05.048263Z",
     "start_time": "2024-09-08T23:11:05.038775Z"
    }
   },
   "cell_type": "code",
   "source": [
    "datadir = repo_root() / 'data' / 'rephrases-10k'\n",
    "paths = list(datadir.glob('*.jsonl'))\n",
    "len(paths)"
   ],
   "id": "f7491201e56caae8",
   "outputs": [
    {
     "data": {
      "text/plain": [
       "66"
      ]
     },
     "execution_count": 2,
     "metadata": {},
     "output_type": "execute_result"
    }
   ],
   "execution_count": 2
  },
  {
   "metadata": {
    "ExecuteTime": {
     "end_time": "2024-09-08T23:12:53.394284Z",
     "start_time": "2024-09-08T23:12:53.385523Z"
    }
   },
   "cell_type": "code",
   "source": [
    "path = paths[0]\n",
    "samples = [json.loads(line) for line in path.open('r')]\n",
    "len(samples)"
   ],
   "id": "e3e122078515fd2e",
   "outputs": [
    {
     "data": {
      "text/plain": [
       "82"
      ]
     },
     "execution_count": 5,
     "metadata": {},
     "output_type": "execute_result"
    }
   ],
   "execution_count": 5
  },
  {
   "metadata": {
    "ExecuteTime": {
     "end_time": "2024-09-08T23:13:00.705322Z",
     "start_time": "2024-09-08T23:13:00.697272Z"
    }
   },
   "cell_type": "code",
   "source": "samples[0]",
   "id": "9a49b288a120c8a",
   "outputs": [
    {
     "data": {
      "text/plain": [
       "{'sl_n': 0,\n",
       " 'num_clauses': 9,\n",
       " 'nl_statement': 'Let A, B, D, C be points such that trapezoid ABCD is a trapezoid where line AD is equal to line BC. Let E be a point such that E is on the circle circle centered at B with radius BD.',\n",
       " 'fl_statement': 'A B C D = eq_trapezoid A B C D; E = on_circle E D B',\n",
       " 'goal_nl': 'BD over DE is identical to DE over BD',\n",
       " 'goal_fl': 'eqratio B D D E D E B D',\n",
       " 'rephrase': 'Consider points A, B, C, and D arranged to form trapezoid ABCD, where sides AD and BC are congruent. Place point E on the circle that has B as its center and a radius equal to BD.',\n",
       " 'md5_item_code': '69f8199b7f51b0b1d3b817b3401845c3'}"
      ]
     },
     "execution_count": 6,
     "metadata": {},
     "output_type": "execute_result"
    }
   ],
   "execution_count": 6
  },
  {
   "metadata": {
    "ExecuteTime": {
     "end_time": "2024-09-08T23:15:16.038451Z",
     "start_time": "2024-09-08T23:15:14.997284Z"
    }
   },
   "cell_type": "code",
   "source": "enc = tiktoken.encoding_for_model(\"gpt-4-turbo\")",
   "id": "d114b6e39762a084",
   "outputs": [],
   "execution_count": 9
  },
  {
   "metadata": {
    "ExecuteTime": {
     "end_time": "2024-09-08T23:22:21.088942Z",
     "start_time": "2024-09-08T23:22:21.082963Z"
    }
   },
   "cell_type": "code",
   "source": [
    "template = repo_root().joinpath('verb', 'rephrase_geo_template.txt').read_text()\n",
    "tmplnum = len(enc.encode(template.format(nl_statement='')))\n",
    "tmplnum"
   ],
   "id": "3aa925fc612302af",
   "outputs": [
    {
     "data": {
      "text/plain": [
       "92"
      ]
     },
     "execution_count": 23,
     "metadata": {},
     "output_type": "execute_result"
    }
   ],
   "execution_count": 23
  },
  {
   "metadata": {
    "ExecuteTime": {
     "end_time": "2024-09-08T23:21:58.522902Z",
     "start_time": "2024-09-08T23:21:58.514795Z"
    }
   },
   "cell_type": "code",
   "source": [
    "innum = len(enc.encode(samples[0]['nl_statement'])) + tmplnum\n",
    "outnum = len(enc.encode(samples[0]['rephrase']))"
   ],
   "id": "912919ece8d59705",
   "outputs": [
    {
     "data": {
      "text/plain": [
       "145"
      ]
     },
     "execution_count": 22,
     "metadata": {},
     "output_type": "execute_result"
    }
   ],
   "execution_count": 22
  },
  {
   "metadata": {
    "ExecuteTime": {
     "end_time": "2024-09-08T23:27:51.355940Z",
     "start_time": "2024-09-08T23:27:49.649144Z"
    }
   },
   "cell_type": "code",
   "source": [
    "intotal = 0\n",
    "outtotal = 0\n",
    "total_samples = 0\n",
    "for path in tqdm(paths):\n",
    "\tsamples = [json.loads(line) for line in path.open('r')]\n",
    "\ttotal_samples += len(samples)\n",
    "\tintotal += sum(map(len,enc.encode_batch([x['nl_statement'] for x in samples]))) + len(samples) * tmplnum\n",
    "\touttotal += sum(map(len,enc.encode_batch([x['rephrase'] for x in samples])))\n",
    "total_samples, intotal, outtotal"
   ],
   "id": "6d840108d7c178ea",
   "outputs": [
    {
     "data": {
      "text/plain": [
       "  0%|          | 0/66 [00:00<?, ?it/s]"
      ],
      "application/vnd.jupyter.widget-view+json": {
       "version_major": 2,
       "version_minor": 0,
       "model_id": "eeb380b05780497e920770be8221aa4b"
      }
     },
     "metadata": {},
     "output_type": "display_data"
    },
    {
     "data": {
      "text/plain": [
       "(10000, 1711888, 784832)"
      ]
     },
     "execution_count": 30,
     "metadata": {},
     "output_type": "execute_result"
    }
   ],
   "execution_count": 30
  },
  {
   "metadata": {
    "ExecuteTime": {
     "end_time": "2024-09-08T23:29:21.769728Z",
     "start_time": "2024-09-08T23:29:21.763937Z"
    }
   },
   "cell_type": "code",
   "source": "intotal * (0.01/1000) + outtotal * (0.03/1000)",
   "id": "a7e6c81061f785c3",
   "outputs": [
    {
     "data": {
      "text/plain": [
       "40.66384"
      ]
     },
     "execution_count": 31,
     "metadata": {},
     "output_type": "execute_result"
    }
   ],
   "execution_count": 31
  },
  {
   "metadata": {},
   "cell_type": "code",
   "outputs": [],
   "execution_count": null,
   "source": "",
   "id": "92efa2b2b03fba8c"
  },
  {
   "metadata": {},
   "cell_type": "code",
   "outputs": [],
   "execution_count": null,
   "source": "",
   "id": "d45dc1a7ec288800"
  },
  {
   "metadata": {
    "ExecuteTime": {
     "end_time": "2024-09-08T23:19:40.450731Z",
     "start_time": "2024-09-08T23:19:40.441581Z"
    }
   },
   "cell_type": "code",
   "source": "enc.encode_batch(['hello', 'world and stuff'])",
   "id": "949e8e0f79473eef",
   "outputs": [
    {
     "data": {
      "text/plain": [
       "[[15339], [14957, 323, 6392]]"
      ]
     },
     "execution_count": 16,
     "metadata": {},
     "output_type": "execute_result"
    }
   ],
   "execution_count": 16
  },
  {
   "metadata": {
    "ExecuteTime": {
     "end_time": "2024-09-08T23:16:01.428659Z",
     "start_time": "2024-09-08T23:16:01.413583Z"
    }
   },
   "cell_type": "code",
   "source": [
    "\n",
    "\n",
    "outnum"
   ],
   "id": "5deb00a679f0e29e",
   "outputs": [
    {
     "data": {
      "text/plain": [
       "48"
      ]
     },
     "execution_count": 12,
     "metadata": {},
     "output_type": "execute_result"
    }
   ],
   "execution_count": 12
  },
  {
   "metadata": {
    "ExecuteTime": {
     "end_time": "2024-09-08T23:42:44.372215Z",
     "start_time": "2024-09-08T23:42:27.652777Z"
    }
   },
   "cell_type": "code",
   "source": [
    "longpath = repo_root().joinpath('data', 'nl_fl_long.csv')\n",
    "df = pd.read_csv(longpath)\n",
    "df.head()"
   ],
   "id": "f8807898ae6472f0",
   "outputs": [
    {
     "data": {
      "text/plain": [
       "   sl_n  num_clauses                                       nl_statement  \\\n",
       "0     0            9  OAXS is a quadrangle. G is a points such that ...   \n",
       "1     1            7  X, O, and A are defined such that triangle OAX...   \n",
       "2     2            8  Points O, X, S, A are defined such that line O...   \n",
       "3     3            8  O & A are point such that A & O is a segment o...   \n",
       "4     4            5  Points O, A, X, S, G are defined such that OAX...   \n",
       "\n",
       "                                        fl_statement  \n",
       "0  O A X S = quadrangle O A X S; G = angle_bisect...  \n",
       "1  O A X = iso_triangle O A X; S = mirror S O A; ...  \n",
       "2  O A X S = eqdia_quadrangle O A X S; G = foot G...  \n",
       "3  O A = segment O A; X S G F = trapezoid X S G F...  \n",
       "4  O A X S G = pentagon O A X S G; F = on_tline F...  "
      ],
      "text/html": [
       "<div>\n",
       "<style scoped>\n",
       "    .dataframe tbody tr th:only-of-type {\n",
       "        vertical-align: middle;\n",
       "    }\n",
       "\n",
       "    .dataframe tbody tr th {\n",
       "        vertical-align: top;\n",
       "    }\n",
       "\n",
       "    .dataframe thead th {\n",
       "        text-align: right;\n",
       "    }\n",
       "</style>\n",
       "<table border=\"1\" class=\"dataframe\">\n",
       "  <thead>\n",
       "    <tr style=\"text-align: right;\">\n",
       "      <th></th>\n",
       "      <th>sl_n</th>\n",
       "      <th>num_clauses</th>\n",
       "      <th>nl_statement</th>\n",
       "      <th>fl_statement</th>\n",
       "    </tr>\n",
       "  </thead>\n",
       "  <tbody>\n",
       "    <tr>\n",
       "      <th>0</th>\n",
       "      <td>0</td>\n",
       "      <td>9</td>\n",
       "      <td>OAXS is a quadrangle. G is a points such that ...</td>\n",
       "      <td>O A X S = quadrangle O A X S; G = angle_bisect...</td>\n",
       "    </tr>\n",
       "    <tr>\n",
       "      <th>1</th>\n",
       "      <td>1</td>\n",
       "      <td>7</td>\n",
       "      <td>X, O, and A are defined such that triangle OAX...</td>\n",
       "      <td>O A X = iso_triangle O A X; S = mirror S O A; ...</td>\n",
       "    </tr>\n",
       "    <tr>\n",
       "      <th>2</th>\n",
       "      <td>2</td>\n",
       "      <td>8</td>\n",
       "      <td>Points O, X, S, A are defined such that line O...</td>\n",
       "      <td>O A X S = eqdia_quadrangle O A X S; G = foot G...</td>\n",
       "    </tr>\n",
       "    <tr>\n",
       "      <th>3</th>\n",
       "      <td>3</td>\n",
       "      <td>8</td>\n",
       "      <td>O &amp; A are point such that A &amp; O is a segment o...</td>\n",
       "      <td>O A = segment O A; X S G F = trapezoid X S G F...</td>\n",
       "    </tr>\n",
       "    <tr>\n",
       "      <th>4</th>\n",
       "      <td>4</td>\n",
       "      <td>5</td>\n",
       "      <td>Points O, A, X, S, G are defined such that OAX...</td>\n",
       "      <td>O A X S G = pentagon O A X S G; F = on_tline F...</td>\n",
       "    </tr>\n",
       "  </tbody>\n",
       "</table>\n",
       "</div>"
      ]
     },
     "execution_count": 32,
     "metadata": {},
     "output_type": "execute_result"
    }
   ],
   "execution_count": 32
  },
  {
   "metadata": {
    "ExecuteTime": {
     "end_time": "2024-09-08T23:42:44.381016Z",
     "start_time": "2024-09-08T23:42:44.373642Z"
    }
   },
   "cell_type": "code",
   "source": "len(df)",
   "id": "224fdb41a37b8693",
   "outputs": [
    {
     "data": {
      "text/plain": [
       "1302942"
      ]
     },
     "execution_count": 33,
     "metadata": {},
     "output_type": "execute_result"
    }
   ],
   "execution_count": 33
  },
  {
   "metadata": {},
   "cell_type": "code",
   "outputs": [],
   "execution_count": null,
   "source": "",
   "id": "f9c56137b4fdf8"
  },
  {
   "metadata": {},
   "cell_type": "code",
   "outputs": [],
   "execution_count": null,
   "source": "",
   "id": "56cd7d78806c6f77"
  },
  {
   "cell_type": "code",
   "execution_count": null,
   "id": "initial_id",
   "metadata": {
    "collapsed": true
   },
   "outputs": [],
   "source": [
    ""
   ]
  }
 ],
 "metadata": {
  "kernelspec": {
   "display_name": "Python 3",
   "language": "python",
   "name": "python3"
  },
  "language_info": {
   "codemirror_mode": {
    "name": "ipython",
    "version": 2
   },
   "file_extension": ".py",
   "mimetype": "text/x-python",
   "name": "python",
   "nbconvert_exporter": "python",
   "pygments_lexer": "ipython2",
   "version": "2.7.6"
  }
 },
 "nbformat": 4,
 "nbformat_minor": 5
}
