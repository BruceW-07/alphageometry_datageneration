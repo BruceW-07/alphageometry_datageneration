{
 "cells": [
  {
   "cell_type": "code",
   "id": "initial_id",
   "metadata": {
    "collapsed": true,
    "ExecuteTime": {
     "end_time": "2024-04-05T16:07:32.444159Z",
     "start_time": "2024-04-05T16:07:32.432934Z"
    }
   },
   "source": [
    "from pathlib import Path\n",
    "import os\n",
    "import yaml\n",
    "import pandas as pd\n",
    "from openai import OpenAI\n",
    "from util import repo_root"
   ],
   "outputs": [],
   "execution_count": 9
  },
  {
   "metadata": {
    "ExecuteTime": {
     "end_time": "2024-04-05T15:24:56.089935Z",
     "start_time": "2024-04-05T15:24:56.077230Z"
    }
   },
   "cell_type": "code",
   "source": [
    "path = repo_root() / 'data' / 'nl_fl_dataset.csv'\n",
    "csv = pd.read_csv(path, delimiter='#')\n",
    "csv"
   ],
   "id": "f7c04f07a9b07f85",
   "outputs": [
    {
     "data": {
      "text/plain": [
       "    sl_n  num_clauses                                       nl_statement  \\\n",
       "0      0            9  tfORZ is a quadrilateral whose diagonals are e...   \n",
       "1      1            6  EU is the centre of the circle that passes thr...   \n",
       "2      2            9    S is a point. E is a point such that EI = EIz.    \n",
       "3      3            6  HH is a point. C is a point such that ∠VwHH is...   \n",
       "4      4            3  XX is the excentre of triangle triangle nrgbW ...   \n",
       "5      5           10                                     G is a point.    \n",
       "6      6            5  Nkj2 is an equilateral triangle. EX is a point...   \n",
       "7      7           10                                     I is a point.    \n",
       "8      8            6  IbOSZY is an isosceles trapezoid with ZYIb = OS.    \n",
       "9      9            9  wTcwXoG is a quadrilateral with wToG = cwX. Li...   \n",
       "10    10            6  bZJXHA is a triangle. Line Ur9 and line HAbZ i...   \n",
       "11    11            8  pFecP is a quadrilateral with pFP = ec. Z is a...   \n",
       "12    12            5           NKwku is a quadrilateral with Nu = Kwk.    \n",
       "\n",
       "                                         fl_statement  \\\n",
       "0   sX T hp = risos sX T hp; G = shift G hp T sX; ...   \n",
       "1   d e mq = risos d e mq; w k g vd W = pentagon w...   \n",
       "2   S = free S; EI fo I KZ = isquare EI fo I KZ; z...   \n",
       "3   M9 V d = risos M9 V d; xW = nsquare xW d V; w ...   \n",
       "4   W nr gb = r_triangle W nr gb; XX = excenter XX...   \n",
       "5   G = free G; W u9 j = r_triangle W u9 j; y KB g...   \n",
       "6   k j2 h = iso_triangle k j2 h; N = eq_triangle ...   \n",
       "7   I = free I; R2 j3 s Yg = quadrangle R2 j3 s Yg...   \n",
       "8   Bm ha q4 = risos Bm ha q4; B = on_circle B q4 ...   \n",
       "9   wT cw X oG = eq_quadrangle wT cw X oG; A = int...   \n",
       "10  bZ JX HA = triangle bZ JX HA; Iv = on_dia Iv J...   \n",
       "11  pF e c P = eq_quadrangle pF e c P; G = mirror ...   \n",
       "12  fO E O A L5 = pentagon fO E O A L5; tm = eqang...   \n",
       "\n",
       "                                    goal_nl                  goal_fl  \\\n",
       "0        ad is to ac is equal to ad over bd  eqratio a d a c a d b d   \n",
       "1   ab is to ac is equivalent to ac over ab  eqratio a b a c a c a b   \n",
       "2                                       NaN                      NaN   \n",
       "3       ac over ab is identical to bc to cd  eqratio a c a b b c c d   \n",
       "4      angle jkl is equivalent to angle jml  eqangle j k k l j m l m   \n",
       "5                 bc is perpendicular to bd             perp b c b d   \n",
       "6                         bm parallel to bm             para b m b m   \n",
       "7                      lo is parallel to lo             para l o l o   \n",
       "8                    ab perpendicular to ac             perp a b a c   \n",
       "9                 fg is perpendicular to fi             perp f g f i   \n",
       "10                         ∠bdc equals ∠cdb  eqangle b d c d c d b d   \n",
       "11                   ad is equivalent to bc             cong a d b c   \n",
       "12          angle ghi is equal to angle ihg  eqangle g h h i h i g h   \n",
       "\n",
       "                                           rnd_states  \n",
       "0   Python Random: 1533797461|312521532|1724113596...  \n",
       "1   Python Random: 1533797461|312521532|1724113596...  \n",
       "2   Python Random: 1533797461|312521532|1724113596...  \n",
       "3   Python Random: 1533797461|312521532|1724113596...  \n",
       "4   Python Random: 1533797461|312521532|1724113596...  \n",
       "5   Python Random: 1533797461|312521532|1724113596...  \n",
       "6   Python Random: 3154707151|2291166014|205160490...  \n",
       "7   Python Random: 3154707151|2291166014|205160490...  \n",
       "8   Python Random: 3154707151|2291166014|205160490...  \n",
       "9   Python Random: 3154707151|2291166014|205160490...  \n",
       "10  Python Random: 3154707151|2291166014|205160490...  \n",
       "11  Python Random: 1291693541|2333035005|289570664...  \n",
       "12  Python Random: 1291693541|2333035005|289570664...  "
      ],
      "text/html": [
       "<div>\n",
       "<style scoped>\n",
       "    .dataframe tbody tr th:only-of-type {\n",
       "        vertical-align: middle;\n",
       "    }\n",
       "\n",
       "    .dataframe tbody tr th {\n",
       "        vertical-align: top;\n",
       "    }\n",
       "\n",
       "    .dataframe thead th {\n",
       "        text-align: right;\n",
       "    }\n",
       "</style>\n",
       "<table border=\"1\" class=\"dataframe\">\n",
       "  <thead>\n",
       "    <tr style=\"text-align: right;\">\n",
       "      <th></th>\n",
       "      <th>sl_n</th>\n",
       "      <th>num_clauses</th>\n",
       "      <th>nl_statement</th>\n",
       "      <th>fl_statement</th>\n",
       "      <th>goal_nl</th>\n",
       "      <th>goal_fl</th>\n",
       "      <th>rnd_states</th>\n",
       "    </tr>\n",
       "  </thead>\n",
       "  <tbody>\n",
       "    <tr>\n",
       "      <th>0</th>\n",
       "      <td>0</td>\n",
       "      <td>9</td>\n",
       "      <td>tfORZ is a quadrilateral whose diagonals are e...</td>\n",
       "      <td>sX T hp = risos sX T hp; G = shift G hp T sX; ...</td>\n",
       "      <td>ad is to ac is equal to ad over bd</td>\n",
       "      <td>eqratio a d a c a d b d</td>\n",
       "      <td>Python Random: 1533797461|312521532|1724113596...</td>\n",
       "    </tr>\n",
       "    <tr>\n",
       "      <th>1</th>\n",
       "      <td>1</td>\n",
       "      <td>6</td>\n",
       "      <td>EU is the centre of the circle that passes thr...</td>\n",
       "      <td>d e mq = risos d e mq; w k g vd W = pentagon w...</td>\n",
       "      <td>ab is to ac is equivalent to ac over ab</td>\n",
       "      <td>eqratio a b a c a c a b</td>\n",
       "      <td>Python Random: 1533797461|312521532|1724113596...</td>\n",
       "    </tr>\n",
       "    <tr>\n",
       "      <th>2</th>\n",
       "      <td>2</td>\n",
       "      <td>9</td>\n",
       "      <td>S is a point. E is a point such that EI = EIz.</td>\n",
       "      <td>S = free S; EI fo I KZ = isquare EI fo I KZ; z...</td>\n",
       "      <td>NaN</td>\n",
       "      <td>NaN</td>\n",
       "      <td>Python Random: 1533797461|312521532|1724113596...</td>\n",
       "    </tr>\n",
       "    <tr>\n",
       "      <th>3</th>\n",
       "      <td>3</td>\n",
       "      <td>6</td>\n",
       "      <td>HH is a point. C is a point such that ∠VwHH is...</td>\n",
       "      <td>M9 V d = risos M9 V d; xW = nsquare xW d V; w ...</td>\n",
       "      <td>ac over ab is identical to bc to cd</td>\n",
       "      <td>eqratio a c a b b c c d</td>\n",
       "      <td>Python Random: 1533797461|312521532|1724113596...</td>\n",
       "    </tr>\n",
       "    <tr>\n",
       "      <th>4</th>\n",
       "      <td>4</td>\n",
       "      <td>3</td>\n",
       "      <td>XX is the excentre of triangle triangle nrgbW ...</td>\n",
       "      <td>W nr gb = r_triangle W nr gb; XX = excenter XX...</td>\n",
       "      <td>angle jkl is equivalent to angle jml</td>\n",
       "      <td>eqangle j k k l j m l m</td>\n",
       "      <td>Python Random: 1533797461|312521532|1724113596...</td>\n",
       "    </tr>\n",
       "    <tr>\n",
       "      <th>5</th>\n",
       "      <td>5</td>\n",
       "      <td>10</td>\n",
       "      <td>G is a point.</td>\n",
       "      <td>G = free G; W u9 j = r_triangle W u9 j; y KB g...</td>\n",
       "      <td>bc is perpendicular to bd</td>\n",
       "      <td>perp b c b d</td>\n",
       "      <td>Python Random: 1533797461|312521532|1724113596...</td>\n",
       "    </tr>\n",
       "    <tr>\n",
       "      <th>6</th>\n",
       "      <td>6</td>\n",
       "      <td>5</td>\n",
       "      <td>Nkj2 is an equilateral triangle. EX is a point...</td>\n",
       "      <td>k j2 h = iso_triangle k j2 h; N = eq_triangle ...</td>\n",
       "      <td>bm parallel to bm</td>\n",
       "      <td>para b m b m</td>\n",
       "      <td>Python Random: 3154707151|2291166014|205160490...</td>\n",
       "    </tr>\n",
       "    <tr>\n",
       "      <th>7</th>\n",
       "      <td>7</td>\n",
       "      <td>10</td>\n",
       "      <td>I is a point.</td>\n",
       "      <td>I = free I; R2 j3 s Yg = quadrangle R2 j3 s Yg...</td>\n",
       "      <td>lo is parallel to lo</td>\n",
       "      <td>para l o l o</td>\n",
       "      <td>Python Random: 3154707151|2291166014|205160490...</td>\n",
       "    </tr>\n",
       "    <tr>\n",
       "      <th>8</th>\n",
       "      <td>8</td>\n",
       "      <td>6</td>\n",
       "      <td>IbOSZY is an isosceles trapezoid with ZYIb = OS.</td>\n",
       "      <td>Bm ha q4 = risos Bm ha q4; B = on_circle B q4 ...</td>\n",
       "      <td>ab perpendicular to ac</td>\n",
       "      <td>perp a b a c</td>\n",
       "      <td>Python Random: 3154707151|2291166014|205160490...</td>\n",
       "    </tr>\n",
       "    <tr>\n",
       "      <th>9</th>\n",
       "      <td>9</td>\n",
       "      <td>9</td>\n",
       "      <td>wTcwXoG is a quadrilateral with wToG = cwX. Li...</td>\n",
       "      <td>wT cw X oG = eq_quadrangle wT cw X oG; A = int...</td>\n",
       "      <td>fg is perpendicular to fi</td>\n",
       "      <td>perp f g f i</td>\n",
       "      <td>Python Random: 3154707151|2291166014|205160490...</td>\n",
       "    </tr>\n",
       "    <tr>\n",
       "      <th>10</th>\n",
       "      <td>10</td>\n",
       "      <td>6</td>\n",
       "      <td>bZJXHA is a triangle. Line Ur9 and line HAbZ i...</td>\n",
       "      <td>bZ JX HA = triangle bZ JX HA; Iv = on_dia Iv J...</td>\n",
       "      <td>∠bdc equals ∠cdb</td>\n",
       "      <td>eqangle b d c d c d b d</td>\n",
       "      <td>Python Random: 3154707151|2291166014|205160490...</td>\n",
       "    </tr>\n",
       "    <tr>\n",
       "      <th>11</th>\n",
       "      <td>11</td>\n",
       "      <td>8</td>\n",
       "      <td>pFecP is a quadrilateral with pFP = ec. Z is a...</td>\n",
       "      <td>pF e c P = eq_quadrangle pF e c P; G = mirror ...</td>\n",
       "      <td>ad is equivalent to bc</td>\n",
       "      <td>cong a d b c</td>\n",
       "      <td>Python Random: 1291693541|2333035005|289570664...</td>\n",
       "    </tr>\n",
       "    <tr>\n",
       "      <th>12</th>\n",
       "      <td>12</td>\n",
       "      <td>5</td>\n",
       "      <td>NKwku is a quadrilateral with Nu = Kwk.</td>\n",
       "      <td>fO E O A L5 = pentagon fO E O A L5; tm = eqang...</td>\n",
       "      <td>angle ghi is equal to angle ihg</td>\n",
       "      <td>eqangle g h h i h i g h</td>\n",
       "      <td>Python Random: 1291693541|2333035005|289570664...</td>\n",
       "    </tr>\n",
       "  </tbody>\n",
       "</table>\n",
       "</div>"
      ]
     },
     "execution_count": 2,
     "metadata": {},
     "output_type": "execute_result"
    }
   ],
   "execution_count": 2
  },
  {
   "metadata": {
    "ExecuteTime": {
     "end_time": "2024-04-05T15:05:54.391312Z",
     "start_time": "2024-04-05T15:05:54.386297Z"
    }
   },
   "cell_type": "code",
   "source": "'OPENAI_API_KEY' in os.environ",
   "id": "a4c21917ed3ea1c3",
   "outputs": [
    {
     "data": {
      "text/plain": [
       "True"
      ]
     },
     "execution_count": 2,
     "metadata": {},
     "output_type": "execute_result"
    }
   ],
   "execution_count": 2
  },
  {
   "metadata": {
    "ExecuteTime": {
     "end_time": "2024-04-05T16:06:54.788910Z",
     "start_time": "2024-04-05T16:06:54.762997Z"
    }
   },
   "cell_type": "code",
   "source": "client = OpenAI()",
   "id": "aaf6120dfff3f28b",
   "outputs": [],
   "execution_count": 4
  },
  {
   "metadata": {
    "ExecuteTime": {
     "end_time": "2024-04-05T16:06:55.188330Z",
     "start_time": "2024-04-05T16:06:55.186409Z"
    }
   },
   "cell_type": "code",
   "source": "sentence = 'S is a point. E is a point such that EI = EIz.'",
   "id": "5030802f09456cf7",
   "outputs": [],
   "execution_count": 5
  },
  {
   "metadata": {
    "ExecuteTime": {
     "end_time": "2024-04-05T16:06:58.067310Z",
     "start_time": "2024-04-05T16:06:56.260671Z"
    }
   },
   "cell_type": "code",
   "source": [
    "chat_completion = client.chat.completions.create(\n",
    "\ttemperature=0,\n",
    "\tmax_tokens=100,\n",
    "    messages=[\n",
    "        {\n",
    "            \"role\": \"user\",\n",
    "            \"content\": \"Rewrite this sentence in 5 ways while keeping all the semantics precisely the same. Write it more compactly and try a few different sentence structures. Make sure that a geometry student could understand unambiguously what is meant. Output everything in YAML format:\\n\" +\n",
    "\t\t\t\t\t   sentence + '\\n' +\n",
    "\t\t\t'```yaml\\n',\n",
    "        }\n",
    "    ],\n",
    "    model=\"gpt-3.5-turbo\",\n",
    ")"
   ],
   "id": "8ef591481f6dc1fd",
   "outputs": [],
   "execution_count": 6
  },
  {
   "metadata": {
    "ExecuteTime": {
     "end_time": "2024-04-05T16:07:24.903826Z",
     "start_time": "2024-04-05T16:07:24.901812Z"
    }
   },
   "cell_type": "code",
   "source": "raw = chat_completion.choices[0].message.content",
   "id": "4c0292307de22732",
   "outputs": [],
   "execution_count": 8
  },
  {
   "metadata": {
    "ExecuteTime": {
     "end_time": "2024-04-05T16:08:42.088199Z",
     "start_time": "2024-04-05T16:08:42.075486Z"
    }
   },
   "cell_type": "code",
   "source": "yaml.safe_load(raw)",
   "id": "4c4a826674ba4544",
   "outputs": [
    {
     "data": {
      "text/plain": [
       "['S and E are points where EI is equal to EIz.',\n",
       " 'Given points S and E, EI is equal to EIz.',\n",
       " 'Let S and E be points with EI equal to EIz.',\n",
       " 'S and E are points where EI equals EIz.',\n",
       " 'If S is a point, then E is a point such that EI = EIz.']"
      ]
     },
     "execution_count": 12,
     "metadata": {},
     "output_type": "execute_result"
    }
   ],
   "execution_count": 12
  },
  {
   "metadata": {},
   "cell_type": "code",
   "outputs": [],
   "execution_count": null,
   "source": "",
   "id": "a6c8e176d2323c53"
  },
  {
   "metadata": {},
   "cell_type": "code",
   "outputs": [],
   "execution_count": null,
   "source": "",
   "id": "94b319ebf3533b87"
  },
  {
   "metadata": {},
   "cell_type": "code",
   "outputs": [],
   "execution_count": null,
   "source": "",
   "id": "df66d255bbd6e6b0"
  },
  {
   "metadata": {},
   "cell_type": "code",
   "outputs": [],
   "execution_count": null,
   "source": "",
   "id": "f6b6d181b636aec4"
  },
  {
   "metadata": {},
   "cell_type": "code",
   "outputs": [],
   "execution_count": null,
   "source": "",
   "id": "363f35b5cf237519"
  },
  {
   "metadata": {},
   "cell_type": "code",
   "outputs": [],
   "execution_count": null,
   "source": "",
   "id": "3a267722b151258d"
  },
  {
   "metadata": {},
   "cell_type": "code",
   "outputs": [],
   "execution_count": null,
   "source": "",
   "id": "c319b5bc99d17b8f"
  },
  {
   "metadata": {},
   "cell_type": "code",
   "outputs": [],
   "execution_count": null,
   "source": "",
   "id": "a28af642b66bda5b"
  }
 ],
 "metadata": {
  "kernelspec": {
   "display_name": "Python 3",
   "language": "python",
   "name": "python3"
  },
  "language_info": {
   "codemirror_mode": {
    "name": "ipython",
    "version": 2
   },
   "file_extension": ".py",
   "mimetype": "text/x-python",
   "name": "python",
   "nbconvert_exporter": "python",
   "pygments_lexer": "ipython2",
   "version": "2.7.6"
  }
 },
 "nbformat": 4,
 "nbformat_minor": 5
}
