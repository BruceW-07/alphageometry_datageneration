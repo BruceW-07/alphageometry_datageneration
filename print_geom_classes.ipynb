{
 "cells": [
  {
   "cell_type": "code",
   "execution_count": 1,
   "metadata": {},
   "outputs": [],
   "source": [
    "# !pip install typing-extensions --upgrade\n",
    "\n",
    "%load_ext autoreload\n",
    "%autoreload 2"
   ]
  },
  {
   "cell_type": "code",
   "execution_count": 2,
   "metadata": {},
   "outputs": [],
   "source": [
    "import problem as pr\n"
   ]
  },
  {
   "cell_type": "code",
   "execution_count": 21,
   "metadata": {},
   "outputs": [
    {
     "name": "stdout",
     "output_type": "stream",
     "text": [
      "Construction_on_tline(c, a, b)\n",
      "[<problem.Construction object at 0x7fc7ee07f520>]\n",
      "Construction_on_tline(c, a, b)\n",
      "Clause(\n",
      "  new_points: a, b, c\n",
      "  constructions: \n",
      "    - Construction_on_tline(c, a, b)\n",
      "  positions: [(0.3, 0.2), None, None]\n",
      ")\n"
     ]
    }
   ],
   "source": [
    "constr_str = \"on_tline c a b\"\n",
    "constr = pr.Construction.from_txt(constr_str)\n",
    "print(constr)\n",
    "print([constr])\n",
    "print(\"\".join(map(str, [constr])))\n",
    "\n",
    "clause = pr.Clause(points=[\"a@0.3_0.2\", \"b\", \"c\"], constructions=[pr.Construction(\"on_tline\", [\"c\", \"a\", \"b\"])])\n",
    "print(clause)"
   ]
  },
  {
   "cell_type": "code",
   "execution_count": 42,
   "metadata": {},
   "outputs": [
    {
     "name": "stdout",
     "output_type": "stream",
     "text": [
      "Theorem(\n",
      "      Construction_perp(A, B, C, D), Construction_perp(C, D, E, F), Construction_ncoll(A, B, E)\n",
      "      => \n",
      "      Construction_para(A, B, E, F)\n",
      ")\n"
     ]
    }
   ],
   "source": [
    "theorem_str = \"perp A B C D, perp C D E F, ncoll A B E => para A B E F\"\n",
    "thm = pr.Theorem.from_txt(theorem_str)\n",
    "print(thm)"
   ]
  },
  {
   "cell_type": "code",
   "execution_count": 37,
   "metadata": {},
   "outputs": [
    {
     "name": "stdout",
     "output_type": "stream",
     "text": [
      "Definition(\n",
      "      for: Construction_eq_triangle(x, b, c)\n",
      "      args: b, c\n",
      "      new_points: x\n",
      "      point_deps: x depends on b, c\n",
      "      implies: \n",
      "          - points x : Construction_cong(x, b, b, c), Construction_cong(b, c, c, x)\n",
      "          - points  : Construction_eqangle(b, x, b, c, c, b, c, x), Construction_eqangle(x, c, x, b, b, x, b, c)\n",
      "      requires: \n",
      "          Clause(\n",
      "            new_points: b, c\n",
      "            constructions: \n",
      "              - Construction_diff(b, c)\n",
      "          )\n",
      "      numerics: Construction_circle(b, b, c), Construction_circle(c, b, c)\n",
      ")\n"
     ]
    }
   ],
   "source": [
    "\n",
    "def_text1 = \"\"\"\\\n",
    "angle_bisector x a b c\n",
    "x : a b c x\n",
    "a b c = ncoll a b c\n",
    "x : eqangle b a b x b x b c\n",
    "bisect a b c\n",
    "\"\"\"\n",
    "def_text2 = \"\"\"\\\n",
    "eq_triangle x b c\n",
    "x : b c\n",
    "b c = diff b c\n",
    "x : cong x b b c, cong b c c x; eqangle b x b c c b c x, eqangle x c x b b x b c\n",
    "circle b b c, circle c b c\n",
    "\"\"\"\n",
    "\n",
    "print(pr.Definition.from_string(def_text2)[0])"
   ]
  },
  {
   "cell_type": "code",
   "execution_count": null,
   "metadata": {},
   "outputs": [],
   "source": []
  },
  {
   "cell_type": "code",
   "execution_count": null,
   "metadata": {},
   "outputs": [],
   "source": []
  },
  {
   "cell_type": "code",
   "execution_count": null,
   "metadata": {},
   "outputs": [],
   "source": [
    "from pretty import pretty_nl\n",
    "\n",
    "\n",
    "def print_as_nl(s):\n",
    "    name, *args = s.split(\" \")\n",
    "    print(f\"{s:24} --> {pretty_nl(name, args)}\")\n",
    "print_as_nl(\"eqangle b a b c b c b x\")\n",
    "print_as_nl(\"amirror a b c\")\n",
    "print_as_nl(\"cong x a x b\") # equal segment\n",
    "print_as_nl(\"para d c a b\")\n",
    "print_as_nl(\"perp x a b c\")\n",
    "print_as_nl(\"coll x b c\")\n",
    "print_as_nl(\"cyclic a b c x\")\n",
    "\n",
    "# print_as_nl(\"\")\n",
    "\n",
    "print()\n",
    "\n",
    "print(f\"{'diff b c':24}: b and c are different points\")"
   ]
  },
  {
   "cell_type": "code",
   "execution_count": null,
   "metadata": {},
   "outputs": [],
   "source": []
  },
  {
   "cell_type": "code",
   "execution_count": null,
   "metadata": {},
   "outputs": [],
   "source": []
  },
  {
   "cell_type": "code",
   "execution_count": null,
   "metadata": {},
   "outputs": [],
   "source": []
  }
 ],
 "metadata": {
  "kernelspec": {
   "display_name": "venv3",
   "language": "python",
   "name": "python3"
  },
  "language_info": {
   "codemirror_mode": {
    "name": "ipython",
    "version": 3
   },
   "file_extension": ".py",
   "mimetype": "text/x-python",
   "name": "python",
   "nbconvert_exporter": "python",
   "pygments_lexer": "ipython3",
   "version": "3.10.12"
  }
 },
 "nbformat": 4,
 "nbformat_minor": 2
}
